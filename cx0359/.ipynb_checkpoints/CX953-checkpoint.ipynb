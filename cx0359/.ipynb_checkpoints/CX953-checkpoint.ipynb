{
 "cells": [
  {
   "cell_type": "markdown",
   "metadata": {},
   "source": [
    "As mentioned [here](http://manuelpm.me/VIMOSlabbook16/log/2017/05/16/cx-359,644,950-and-953.html), in the same folder as [CX359](https://vimos.manuelpm.me/cx359) in the first section of the SEXM there is CX953.\n",
    "\n",
    "- CX953: 0 to 50. There are at least two sources. One brighter thought the whole spectral range center at around 30. The second one center around 17."
   ]
  },
  {
   "cell_type": "code",
   "execution_count": 16,
   "metadata": {},
   "outputs": [
    {
     "data": {
      "text/html": [
       "\n",
       "    <div class=\"bk-root\">\n",
       "        <a href=\"http://bokeh.pydata.org\" target=\"_blank\" class=\"bk-logo bk-logo-small bk-logo-notebook\"></a>\n",
       "        <span id=\"658f25ac-fcce-40b4-8c27-1a20984aa28a\">Loading BokehJS ...</span>\n",
       "    </div>"
      ]
     },
     "metadata": {},
     "output_type": "display_data"
    },
    {
     "data": {
      "application/javascript": [
       "\n",
       "(function(global) {\n",
       "  function now() {\n",
       "    return new Date();\n",
       "  }\n",
       "\n",
       "  var force = true;\n",
       "\n",
       "  if (typeof (window._bokeh_onload_callbacks) === \"undefined\" || force === true) {\n",
       "    window._bokeh_onload_callbacks = [];\n",
       "    window._bokeh_is_loading = undefined;\n",
       "  }\n",
       "\n",
       "\n",
       "  \n",
       "  if (typeof (window._bokeh_timeout) === \"undefined\" || force === true) {\n",
       "    window._bokeh_timeout = Date.now() + 5000;\n",
       "    window._bokeh_failed_load = false;\n",
       "  }\n",
       "\n",
       "  var NB_LOAD_WARNING = {'data': {'text/html':\n",
       "     \"<div style='background-color: #fdd'>\\n\"+\n",
       "     \"<p>\\n\"+\n",
       "     \"BokehJS does not appear to have successfully loaded. If loading BokehJS from CDN, this \\n\"+\n",
       "     \"may be due to a slow or bad network connection. Possible fixes:\\n\"+\n",
       "     \"</p>\\n\"+\n",
       "     \"<ul>\\n\"+\n",
       "     \"<li>re-rerun `output_notebook()` to attempt to load from CDN again, or</li>\\n\"+\n",
       "     \"<li>use INLINE resources instead, as so:</li>\\n\"+\n",
       "     \"</ul>\\n\"+\n",
       "     \"<code>\\n\"+\n",
       "     \"from bokeh.resources import INLINE\\n\"+\n",
       "     \"output_notebook(resources=INLINE)\\n\"+\n",
       "     \"</code>\\n\"+\n",
       "     \"</div>\"}};\n",
       "\n",
       "  function display_loaded() {\n",
       "    if (window.Bokeh !== undefined) {\n",
       "      var el = document.getElementById(\"658f25ac-fcce-40b4-8c27-1a20984aa28a\");\n",
       "      el.textContent = \"BokehJS \" + Bokeh.version + \" successfully loaded.\";\n",
       "    } else if (Date.now() < window._bokeh_timeout) {\n",
       "      setTimeout(display_loaded, 100)\n",
       "    }\n",
       "  }\n",
       "\n",
       "  function run_callbacks() {\n",
       "    window._bokeh_onload_callbacks.forEach(function(callback) { callback() });\n",
       "    delete window._bokeh_onload_callbacks\n",
       "    console.info(\"Bokeh: all callbacks have finished\");\n",
       "  }\n",
       "\n",
       "  function load_libs(js_urls, callback) {\n",
       "    window._bokeh_onload_callbacks.push(callback);\n",
       "    if (window._bokeh_is_loading > 0) {\n",
       "      console.log(\"Bokeh: BokehJS is being loaded, scheduling callback at\", now());\n",
       "      return null;\n",
       "    }\n",
       "    if (js_urls == null || js_urls.length === 0) {\n",
       "      run_callbacks();\n",
       "      return null;\n",
       "    }\n",
       "    console.log(\"Bokeh: BokehJS not loaded, scheduling load and callback at\", now());\n",
       "    window._bokeh_is_loading = js_urls.length;\n",
       "    for (var i = 0; i < js_urls.length; i++) {\n",
       "      var url = js_urls[i];\n",
       "      var s = document.createElement('script');\n",
       "      s.src = url;\n",
       "      s.async = false;\n",
       "      s.onreadystatechange = s.onload = function() {\n",
       "        window._bokeh_is_loading--;\n",
       "        if (window._bokeh_is_loading === 0) {\n",
       "          console.log(\"Bokeh: all BokehJS libraries loaded\");\n",
       "          run_callbacks()\n",
       "        }\n",
       "      };\n",
       "      s.onerror = function() {\n",
       "        console.warn(\"failed to load library \" + url);\n",
       "      };\n",
       "      console.log(\"Bokeh: injecting script tag for BokehJS library: \", url);\n",
       "      document.getElementsByTagName(\"head\")[0].appendChild(s);\n",
       "    }\n",
       "  };var element = document.getElementById(\"658f25ac-fcce-40b4-8c27-1a20984aa28a\");\n",
       "  if (element == null) {\n",
       "    console.log(\"Bokeh: ERROR: autoload.js configured with elementid '658f25ac-fcce-40b4-8c27-1a20984aa28a' but no matching script tag was found. \")\n",
       "    return false;\n",
       "  }\n",
       "\n",
       "  var js_urls = [\"https://cdn.pydata.org/bokeh/release/bokeh-0.12.5.min.js\", \"https://cdn.pydata.org/bokeh/release/bokeh-widgets-0.12.5.min.js\"];\n",
       "\n",
       "  var inline_js = [\n",
       "    function(Bokeh) {\n",
       "      Bokeh.set_log_level(\"info\");\n",
       "    },\n",
       "    \n",
       "    function(Bokeh) {\n",
       "      \n",
       "    },\n",
       "    \n",
       "    function(Bokeh) {\n",
       "      \n",
       "      document.getElementById(\"658f25ac-fcce-40b4-8c27-1a20984aa28a\").textContent = \"BokehJS is loading...\";\n",
       "    },\n",
       "    function(Bokeh) {\n",
       "      console.log(\"Bokeh: injecting CSS: https://cdn.pydata.org/bokeh/release/bokeh-0.12.5.min.css\");\n",
       "      Bokeh.embed.inject_css(\"https://cdn.pydata.org/bokeh/release/bokeh-0.12.5.min.css\");\n",
       "      console.log(\"Bokeh: injecting CSS: https://cdn.pydata.org/bokeh/release/bokeh-widgets-0.12.5.min.css\");\n",
       "      Bokeh.embed.inject_css(\"https://cdn.pydata.org/bokeh/release/bokeh-widgets-0.12.5.min.css\");\n",
       "    }\n",
       "  ];\n",
       "\n",
       "  function run_inline_js() {\n",
       "    \n",
       "    if ((window.Bokeh !== undefined) || (force === true)) {\n",
       "      for (var i = 0; i < inline_js.length; i++) {\n",
       "        inline_js[i](window.Bokeh);\n",
       "      }if (force === true) {\n",
       "        display_loaded();\n",
       "      }} else if (Date.now() < window._bokeh_timeout) {\n",
       "      setTimeout(run_inline_js, 100);\n",
       "    } else if (!window._bokeh_failed_load) {\n",
       "      console.log(\"Bokeh: BokehJS failed to load within specified timeout.\");\n",
       "      window._bokeh_failed_load = true;\n",
       "    } else if (force !== true) {\n",
       "      var cell = $(document.getElementById(\"658f25ac-fcce-40b4-8c27-1a20984aa28a\")).parents('.cell').data().cell;\n",
       "      cell.output_area.append_execute_result(NB_LOAD_WARNING)\n",
       "    }\n",
       "\n",
       "  }\n",
       "\n",
       "  if (window._bokeh_is_loading === 0) {\n",
       "    console.log(\"Bokeh: BokehJS loaded, going straight to plotting\");\n",
       "    run_inline_js();\n",
       "  } else {\n",
       "    load_libs(js_urls, function() {\n",
       "      console.log(\"Bokeh: BokehJS plotting callback run at\", now());\n",
       "      run_inline_js();\n",
       "    });\n",
       "  }\n",
       "}(this));"
      ]
     },
     "metadata": {},
     "output_type": "display_data"
    }
   ],
   "source": [
    "#Import packages\n",
    "from astropy.io import fits\n",
    "import os\n",
    "from stsci.tools import capable\n",
    "capable.OF_GRAPHICS = False\n",
    "from pyraf import iraf\n",
    "import numpy as np\n",
    "from shutil import copyfile\n",
    "from astropy.convolution import convolve, Box1DKernel\n",
    "#Bokeh plotting\n",
    "from bokeh.io import push_notebook, show, output_notebook\n",
    "from bokeh.plotting import figure\n",
    "from bokeh.models import HoverTool, tools, ColumnDataSource, CustomJS, Slider, BoxAnnotation\n",
    "output_notebook()"
   ]
  },
  {
   "cell_type": "markdown",
   "metadata": {},
   "source": [
    "First we define the parameters to extract the desire spectra:\n",
    "    - Name of the source\n",
    "    - Center, low and upper limits of the aperture\n",
    "    - background sample"
   ]
  },
  {
   "cell_type": "code",
   "execution_count": 111,
   "metadata": {
    "collapsed": true
   },
   "outputs": [],
   "source": [
    "sourcename = 'cx953sky'\n",
    "center = 31\n",
    "low = -5\n",
    "high = 5\n",
    "b_low = [-10,-6]\n",
    "b_up = [10,6]\n",
    "databasegeneral = 'database/apcx359sexm'\n",
    "filename = 'database/ap'+sourcename\n",
    "fitsfilename = 'mos_science_sky_extracted_Q3.fits'"
   ]
  },
  {
   "cell_type": "markdown",
   "metadata": {},
   "source": [
    "First we multiply the 2D spectra times the exposure time"
   ]
  },
  {
   "cell_type": "code",
   "execution_count": 18,
   "metadata": {},
   "outputs": [],
   "source": [
    "spectrawithsky = fits.open(fitsfilename)\n",
    "exptime = spectrawithsky[0].header['EXPTIME']\n",
    "iraf.stsdas()\n",
    "iraf.images.imutil()\n",
    "if os.path.exists(sourcename+'.fits'):\n",
    "    os.remove(sourcename+'.fits')\n",
    "    \n",
    "\n",
    "iraf.images.imutil.imarith(fitsfilename,'*', exptime,sourcename)"
   ]
  },
  {
   "cell_type": "markdown",
   "metadata": {},
   "source": [
    "Now we need to change the database of the aperture to define the center. This is the only way I have found to do it automatically. After this define the parameters in the .par file"
   ]
  },
  {
   "cell_type": "code",
   "execution_count": 108,
   "metadata": {},
   "outputs": [],
   "source": [
    "copyfile(databasegeneral,filename)\n",
    "#Now read and replace center and upper and lower values\n",
    "with open(filename) as f:\n",
    "    for lines in f:\n",
    "        if 'image' in lines:\n",
    "                imagename= lines.split()[1]\n",
    "        if 'center' in lines:\n",
    "                numerocenter = lines.split()[2]\n",
    "        if 'low' in lines:\n",
    "                numerolow = lines.split()[2]\n",
    "        if 'high' in lines:\n",
    "                numerohigh = lines.split()[2]\n",
    "        if 'xmin' in lines:\n",
    "            bloworiginal  = lines\n",
    "            blow = lines.replace(lines.split()[1],min(b_low)\n",
    "        if 'xmax' in lines:\n",
    "            buporiginal  = lines\n",
    "            bup = lines.replace(lines.split()[1],max(b_up)\n",
    "        if 'sample' in lines:\n",
    "            sampleor = lines\n",
    "            sampleb = lines.replace(-10,min(b_low))\n",
    "                            \n",
    "            \n",
    "                \n",
    "                \n",
    "                break\n",
    "\n",
    "with open(filename) as f:\n",
    "    filedata = f.read()\n",
    "\n",
    "filedata = filedata.replace(imagename,sourcename)\n",
    "filedata = filedata.replace(numerocenter,str(center))\n",
    "filedata = filedata.replace(numerolow,str(low))\n",
    "filedata = filedata.replace(numerohigh,str(high))\n",
    "\n",
    "with open(filename,'w') as f:\n",
    "    f.write(filedata)\n",
    "\n"
   ]
  },
  {
   "cell_type": "code",
   "execution_count": 117,
   "metadata": {},
   "outputs": [
    {
     "name": "stdout",
     "output_type": "stream",
     "text": [
      "1:-6,6:10\n"
     ]
    }
   ],
   "source": [
    "with open(filename) as f:\n",
    "    for lines in f:\n",
    "        if 'sample' in lines:\n",
    "            a = lines\n",
    "            b = lines.replace('-10','1')\n",
    "            print b.split()[1]\n",
    "filedata = filedata.replace(a,b)\n",
    "\n",
    "with open(filename,'w') as f:\n",
    "    f.write(filedata)\n",
    "\n",
    "\n"
   ]
  },
  {
   "cell_type": "code",
   "execution_count": 75,
   "metadata": {},
   "outputs": [
    {
     "name": "stdout",
     "output_type": "stream",
     "text": [
      "May 23 17:29: EXTRACT - No apertures defined for cx953sky\n"
     ]
    }
   ],
   "source": [
    "if os.path.exists(sourcename+'.ms.fits'):\n",
    "    os.remove(sourcename+'.ms.fits')\n",
    "\n",
    "#Call them \n",
    "iraf.noao.twodspec()\n",
    "iraf.noao.twodspec.apextract()\n",
    "iraf.noao.twodspec.apextract.setParam('dispaxis','1')\n",
    "#http://vivaldi.ll.iac.es/sieinvens/siepedia/pmwiki.php?n=HOWTOs.PythonianIRAF\n",
    "iraf.noao.apextract.apall.setParam('input',sourcename+'.fits')\n",
    "#try output\n",
    "iraf.noao.apextract.apall.setParam('output',sourcename+'.ms.fits')\n",
    "iraf.noao.twodspec.apextract.apall.setParam('recenter','no')\n",
    "iraf.noao.twodspec.apextract.apall.setParam('resize','no')\n",
    "iraf.noao.twodspec.apextract.apall.setParam('edit','no')\n",
    "iraf.noao.twodspec.apextract.apall.setParam('trace','no')\n",
    "iraf.noao.twodspec.apextract.apall.setParam('interactive','no')\n",
    "iraf.noao.twodspec.apextract.apall.setParam('apertures','1')\n",
    "iraf.noao.twodspec.apextract.apall.setParam('find','no')\n",
    "iraf.noao.twodspec.apextract.apall.setParam('clean','yes')\n",
    "iraf.noao.twodspec.apextract.apall.setParam('background','average')\n",
    "iraf.noao.twodspec.apextract.apall.setParam('b_sample','-10,0:0,0')\n",
    "iraf.noao.apextract.apall.saveParList(filename='uparm/'+sourcename+'.par')\n",
    "iraf.noao.twodspec.apextract.apall(ParList='uparm/'+sourcename+'.par')"
   ]
  },
  {
   "cell_type": "code",
   "execution_count": 110,
   "metadata": {},
   "outputs": [
    {
     "name": "stdout",
     "output_type": "stream",
     "text": [
      "# Tue 01:28:30 14-Mar-2017\r\n",
      "begin\taperture cx953sky 1 1250. 31\r\n",
      "\timage\tcx953sky\r\n",
      "\taperture\t1\r\n",
      "\tbeam\t1\r\n",
      "\tcenter\t1250. 31\r\n",
      "\tlow\t-1249. -5\r\n",
      "\thigh\t1250. 5\r\n",
      "\tbackground\r\n",
      "\t\txmin 1.\r\n",
      "\t\txmax 10.\r\n",
      "\t\tfunction chebyshev\r\n",
      "\t\torder 1\r\n",
      "\t\tsample -10:-6,6:10\r\n",
      "\t\tnaverage -3\r\n",
      "\t\tniterate 0\r\n",
      "\t\tlow_reject 3.\r\n",
      "\t\thigh_reject 3.\r\n",
      "\t\tgrow 0.\r\n",
      "\taxis\t2\r\n",
      "\tcurve\t5\r\n",
      "\t\t2.\r\n",
      "\t\t1.\r\n",
      "\t\t1.\r\n",
      "\t\t2500.\r\n",
      "\t\t0.\r\n",
      "\r\n"
     ]
    }
   ],
   "source": [
    "cat database/apcx953sky"
   ]
  },
  {
   "cell_type": "code",
   "execution_count": 52,
   "metadata": {},
   "outputs": [
    {
     "data": {
      "text/html": [
       "\n",
       "\n",
       "    <div class=\"bk-root\">\n",
       "        <div class=\"bk-plotdiv\" id=\"a36ec3d5-6838-4bd9-ada4-d4492b47a17e\"></div>\n",
       "    </div>\n",
       "<script type=\"text/javascript\">\n",
       "  \n",
       "  (function(global) {\n",
       "    function now() {\n",
       "      return new Date();\n",
       "    }\n",
       "  \n",
       "    var force = false;\n",
       "  \n",
       "    if (typeof (window._bokeh_onload_callbacks) === \"undefined\" || force === true) {\n",
       "      window._bokeh_onload_callbacks = [];\n",
       "      window._bokeh_is_loading = undefined;\n",
       "    }\n",
       "  \n",
       "  \n",
       "    \n",
       "    if (typeof (window._bokeh_timeout) === \"undefined\" || force === true) {\n",
       "      window._bokeh_timeout = Date.now() + 0;\n",
       "      window._bokeh_failed_load = false;\n",
       "    }\n",
       "  \n",
       "    var NB_LOAD_WARNING = {'data': {'text/html':\n",
       "       \"<div style='background-color: #fdd'>\\n\"+\n",
       "       \"<p>\\n\"+\n",
       "       \"BokehJS does not appear to have successfully loaded. If loading BokehJS from CDN, this \\n\"+\n",
       "       \"may be due to a slow or bad network connection. Possible fixes:\\n\"+\n",
       "       \"</p>\\n\"+\n",
       "       \"<ul>\\n\"+\n",
       "       \"<li>re-rerun `output_notebook()` to attempt to load from CDN again, or</li>\\n\"+\n",
       "       \"<li>use INLINE resources instead, as so:</li>\\n\"+\n",
       "       \"</ul>\\n\"+\n",
       "       \"<code>\\n\"+\n",
       "       \"from bokeh.resources import INLINE\\n\"+\n",
       "       \"output_notebook(resources=INLINE)\\n\"+\n",
       "       \"</code>\\n\"+\n",
       "       \"</div>\"}};\n",
       "  \n",
       "    function display_loaded() {\n",
       "      if (window.Bokeh !== undefined) {\n",
       "        var el = document.getElementById(\"a36ec3d5-6838-4bd9-ada4-d4492b47a17e\");\n",
       "        el.textContent = \"BokehJS \" + Bokeh.version + \" successfully loaded.\";\n",
       "      } else if (Date.now() < window._bokeh_timeout) {\n",
       "        setTimeout(display_loaded, 100)\n",
       "      }\n",
       "    }\n",
       "  \n",
       "    function run_callbacks() {\n",
       "      window._bokeh_onload_callbacks.forEach(function(callback) { callback() });\n",
       "      delete window._bokeh_onload_callbacks\n",
       "      console.info(\"Bokeh: all callbacks have finished\");\n",
       "    }\n",
       "  \n",
       "    function load_libs(js_urls, callback) {\n",
       "      window._bokeh_onload_callbacks.push(callback);\n",
       "      if (window._bokeh_is_loading > 0) {\n",
       "        console.log(\"Bokeh: BokehJS is being loaded, scheduling callback at\", now());\n",
       "        return null;\n",
       "      }\n",
       "      if (js_urls == null || js_urls.length === 0) {\n",
       "        run_callbacks();\n",
       "        return null;\n",
       "      }\n",
       "      console.log(\"Bokeh: BokehJS not loaded, scheduling load and callback at\", now());\n",
       "      window._bokeh_is_loading = js_urls.length;\n",
       "      for (var i = 0; i < js_urls.length; i++) {\n",
       "        var url = js_urls[i];\n",
       "        var s = document.createElement('script');\n",
       "        s.src = url;\n",
       "        s.async = false;\n",
       "        s.onreadystatechange = s.onload = function() {\n",
       "          window._bokeh_is_loading--;\n",
       "          if (window._bokeh_is_loading === 0) {\n",
       "            console.log(\"Bokeh: all BokehJS libraries loaded\");\n",
       "            run_callbacks()\n",
       "          }\n",
       "        };\n",
       "        s.onerror = function() {\n",
       "          console.warn(\"failed to load library \" + url);\n",
       "        };\n",
       "        console.log(\"Bokeh: injecting script tag for BokehJS library: \", url);\n",
       "        document.getElementsByTagName(\"head\")[0].appendChild(s);\n",
       "      }\n",
       "    };var element = document.getElementById(\"a36ec3d5-6838-4bd9-ada4-d4492b47a17e\");\n",
       "    if (element == null) {\n",
       "      console.log(\"Bokeh: ERROR: autoload.js configured with elementid 'a36ec3d5-6838-4bd9-ada4-d4492b47a17e' but no matching script tag was found. \")\n",
       "      return false;\n",
       "    }\n",
       "  \n",
       "    var js_urls = [];\n",
       "  \n",
       "    var inline_js = [\n",
       "      function(Bokeh) {\n",
       "        (function() {\n",
       "          var fn = function() {\n",
       "            var docs_json = {\"9597a5c5-40d7-4813-8abf-b7929e578973\":{\"roots\":{\"references\":[{\"attributes\":{\"plot\":{\"id\":\"52177c33-5b94-495f-8232-8874fec6cf6e\",\"subtype\":\"Figure\",\"type\":\"Plot\"},\"ticker\":{\"id\":\"1feb666f-a0a1-4fb8-956c-394c8387da1a\",\"type\":\"BasicTicker\"}},\"id\":\"eab7b767-a6f2-45ea-9ac4-0cfff7d040ac\",\"type\":\"Grid\"},{\"attributes\":{},\"id\":\"6e13f2f6-4f65-4ebd-ac55-bcc7a169adf5\",\"type\":\"BasicTickFormatter\"},{\"attributes\":{\"axis_label\":\"Y\",\"formatter\":{\"id\":\"f3cfb125-a7e4-4e76-89dd-6dacd82a9f69\",\"type\":\"BasicTickFormatter\"},\"plot\":{\"id\":\"52177c33-5b94-495f-8232-8874fec6cf6e\",\"subtype\":\"Figure\",\"type\":\"Plot\"},\"ticker\":{\"id\":\"672fdc78-bc2e-4b64-a7b3-e1bd37ddef81\",\"type\":\"BasicTicker\"}},\"id\":\"17c8720e-e2c1-449c-a685-f2ef7d01b66e\",\"type\":\"LinearAxis\"},{\"attributes\":{\"callback\":null,\"column_names\":[\"y\",\"x\"],\"data\":{\"x\":{\"__ndarray__\":\"mpmZmZlaq0DNzMzMzF+rQAAAAAAAZatANDMzMzNqq0BnZmZmZm+rQJqZmZmZdKtAzczMzMx5q0AAAAAAAH+rQDQzMzMzhKtAZ2ZmZmaJq0CamZmZmY6rQM3MzMzMk6tAAAAAAACZq0A0MzMzM56rQGdmZmZmo6tAmpmZmZmoq0DNzMzMzK2rQAAAAAAAs6tANDMzMzO4q0BnZmZmZr2rQJqZmZmZwqtAzczMzMzHq0AAAAAAAM2rQDQzMzMz0qtAZ2ZmZmbXq0CamZmZmdyrQM3MzMzM4atAAAAAAADnq0A0MzMzM+yrQGdmZmZm8atAmpmZmZn2q0DNzMzMzPurQAAAAAAAAaxANDMzMzMGrEBnZmZmZgusQJqZmZmZEKxAzczMzMwVrEAAAAAAABusQDQzMzMzIKxAZ2ZmZmYlrECamZmZmSqsQM3MzMzML6xAAAAAAAA1rEA0MzMzMzqsQGdmZmZmP6xAmpmZmZlErEDNzMzMzEmsQAAAAAAAT6xANDMzMzNUrEBnZmZmZlmsQJqZmZmZXqxAzczMzMxjrEAAAAAAAGmsQDQzMzMzbqxAZ2ZmZmZzrECamZmZmXisQM3MzMzMfaxAAAAAAACDrEA0MzMzM4isQGdmZmZmjaxAmpmZmZmSrEDNzMzMzJesQAAAAAAAnaxANDMzMzOirEBnZmZmZqesQJqZmZmZrKxAzczMzMyxrEAAAAAAALesQDQzMzMzvKxAZ2ZmZmbBrECamZmZmcasQM3MzMzMy6xAAAAAAADRrEA0MzMzM9asQGdmZmZm26xAmpmZmZngrEDNzMzMzOWsQAAAAAAA66xANDMzMzPwrEBnZmZmZvWsQJqZmZmZ+qxAzczMzMz/rEAAAAAAAAWtQDQzMzMzCq1AZ2ZmZmYPrUCamZmZmRStQM3MzMzMGa1AAAAAAAAfrUA0MzMzMyStQGdmZmZmKa1AmpmZmZkurUDNzMzMzDOtQAAAAAAAOa1ANDMzMzM+rUBnZmZmZkOtQJqZmZmZSK1AzczMzMxNrUAAAAAAAFOtQDQzMzMzWK1AZ2ZmZmZdrUCamZmZmWKtQM3MzMzMZ61AAAAAAABtrUA0MzMzM3KtQGdmZmZmd61AmpmZmZl8rUDNzMzMzIGtQAAAAAAAh61ANDMzMzOMrUBnZmZmZpGtQJqZmZmZlq1AzczMzMybrUAAAAAAAKGtQDQzMzMzpq1AZ2ZmZmarrUCamZmZmbCtQM3MzMzMta1AAAAAAAC7rUA0MzMzM8CtQGdmZmZmxa1AmpmZmZnKrUDNzMzMzM+tQAAAAAAA1a1ANDMzMzParUBnZmZmZt+tQJqZmZmZ5K1AzczMzMzprUAAAAAAAO+tQDQzMzMz9K1AZ2ZmZmb5rUCamZmZmf6tQM3MzMzMA65AAAAAAAAJrkA0MzMzMw6uQGdmZmZmE65AmpmZmZkYrkDNzMzMzB2uQAAAAAAAI65ANDMzMzMorkBnZmZmZi2uQJqZmZmZMq5AzczMzMw3rkAAAAAAAD2uQDQzMzMzQq5AZ2ZmZmZHrkCamZmZmUyuQM3MzMzMUa5AAAAAAABXrkA0MzMzM1yuQGdmZmZmYa5AmpmZmZlmrkDNzMzMzGuuQAAAAAAAca5ANDMzMzN2rkBnZmZmZnuuQJqZmZmZgK5AzczMzMyFrkAAAAAAAIuuQDQzMzMzkK5AZ2ZmZmaVrkCamZmZmZquQM3MzMzMn65AAAAAAAClrkA0MzMzM6quQGdmZmZmr65AmpmZmZm0rkDNzMzMzLmuQAAAAAAAv65ANDMzMzPErkBnZmZmZsmuQJqZmZmZzq5AzczMzMzTrkAAAAAAANmuQDQzMzMz3q5AZ2ZmZmbjrkCamZmZmeiuQM3MzMzM7a5AAAAAAADzrkA0MzMzM/iuQGdmZmZm/a5AmpmZmZkCr0DNzMzMzAevQAAAAAAADa9ANDMzMzMSr0BnZmZmZhevQJqZmZmZHK9AzczMzMwhr0AAAAAAACevQDQzMzMzLK9AZ2ZmZmYxr0CamZmZmTavQM3MzMzMO69AAAAAAABBr0A0MzMzM0avQGdmZmZmS69AmpmZmZlQr0DNzMzMzFWvQAAAAAAAW69ANDMzMzNgr0BnZmZmZmWvQJqZmZmZaq9AzczMzMxvr0AAAAAAAHWvQDQzMzMzeq9AZ2ZmZmZ/r0CamZmZmYSvQM3MzMzMia9AAAAAAACPr0A0MzMzM5SvQGdmZmZmma9AmpmZmZmer0DNzMzMzKOvQAAAAAAAqa9ANDMzMzOur0BnZmZmZrOvQJqZmZmZuK9AzczMzMy9r0AAAAAAAMOvQDQzMzMzyK9AZ2ZmZmbNr0CamZmZmdKvQM3MzMzM169AAAAAAADdr0A0MzMzM+KvQGdmZmZm569AmpmZmZnsr0DNzMzMzPGvQAAAAAAA969ANDMzMzP8r0AzMzMzswCwQM3MzMxMA7BAZ2ZmZuYFsEAAAAAAgAiwQJqZmZkZC7BAMzMzM7MNsEDNzMzMTBCwQGdmZmbmErBAAAAAAIAVsECamZmZGRiwQDMzMzOzGrBAzczMzEwdsEBnZmZm5h+wQAAAAACAIrBAmpmZmRklsEAzMzMzsyewQM3MzMxMKrBAZ2ZmZuYssEAAAAAAgC+wQJqZmZkZMrBAMzMzM7M0sEDNzMzMTDewQGdmZmbmObBAAAAAAIA8sECamZmZGT+wQDMzMzOzQbBAzczMzExEsEBnZmZm5kawQAAAAACASbBAmpmZmRlMsEAzMzMzs06wQM3MzMxMUbBAZ2ZmZuZTsEAAAAAAgFawQJqZmZkZWbBAMzMzM7NbsEDNzMzMTF6wQGdmZmbmYLBAAAAAAIBjsECamZmZGWawQDMzMzOzaLBAzczMzExrsEBnZmZm5m2wQAAAAACAcLBAmpmZmRlzsEAzMzMzs3WwQM3MzMxMeLBAZ2ZmZuZ6sEAAAAAAgH2wQJqZmZkZgLBAMzMzM7OCsEDNzMzMTIWwQGdmZmbmh7BAAAAAAICKsECamZmZGY2wQDMzMzOzj7BAzczMzEySsEBnZmZm5pSwQAAAAACAl7BAmpmZmRmasEAzMzMzs5ywQM3MzMxMn7BAZ2ZmZuahsEAAAAAAgKSwQJqZmZkZp7BAMzMzM7OpsEDNzMzMTKywQGdmZmbmrrBAAAAAAICxsECamZmZGbSwQDMzMzOztrBAzczMzEy5sEBnZmZm5ruwQAAAAACAvrBAmpmZmRnBsEAzMzMzs8OwQM3MzMxMxrBAZ2ZmZubIsEAAAAAAgMuwQJqZmZkZzrBAMzMzM7PQsEDNzMzMTNOwQGdmZmbm1bBAAAAAAIDYsECamZmZGduwQDMzMzOz3bBAzczMzEzgsEBnZmZm5uKwQAAAAACA5bBAmpmZmRnosEAzMzMzs+qwQM3MzMxM7bBAZ2ZmZubvsEAAAAAAgPKwQJqZmZkZ9bBAMzMzM7P3sEDNzMzMTPqwQGdmZmbm/LBAAAAAAID/sECamZmZGQKxQDMzMzOzBLFAzczMzEwHsUBnZmZm5gmxQAAAAACADLFAmpmZmRkPsUAzMzMzsxGxQM3MzMxMFLFAZ2ZmZuYWsUAAAAAAgBmxQJqZmZkZHLFAMzMzM7MesUDNzMzMTCGxQGdmZmbmI7FAAAAAAIAmsUCamZmZGSmxQDMzMzOzK7FAzczMzEwusUBnZmZm5jCxQAAAAACAM7FAmpmZmRk2sUAzMzMzszixQM3MzMxMO7FAZ2ZmZuY9sUAAAAAAgECxQJqZmZkZQ7FAMzMzM7NFsUDNzMzMTEixQGdmZmbmSrFAAAAAAIBNsUCamZmZGVCxQDMzMzOzUrFAzczMzExVsUBnZmZm5lexQAAAAACAWrFAmpmZmRldsUAzMzMzs1+xQM3MzMxMYrFAZ2ZmZuZksUAAAAAAgGexQJqZmZkZarFAMzMzM7NssUDNzMzMTG+xQGdmZmbmcbFAAAAAAIB0sUCamZmZGXexQDMzMzOzebFAzczMzEx8sUBnZmZm5n6xQAAAAACAgbFAmpmZmRmEsUAzMzMzs4axQM3MzMxMibFAZ2ZmZuaLsUAAAAAAgI6xQJqZmZkZkbFANDMzM7OTsUDNzMzMTJaxQGdmZmbmmLFAAAAAAICbsUCamZmZGZ6xQDQzMzOzoLFAzczMzEyjsUBnZmZm5qWxQAAAAACAqLFAmpmZmRmrsUA0MzMzs62xQM3MzMxMsLFAZ2ZmZuaysUAAAAAAgLWxQJqZmZkZuLFANDMzM7O6sUDNzMzMTL2xQGdmZmbmv7FAAAAAAIDCsUCamZmZGcWxQDQzMzOzx7FAzczMzEzKsUBnZmZm5syxQAAAAACAz7FAmpmZmRnSsUA0MzMzs9SxQM3MzMxM17FAZ2ZmZubZsUAAAAAAgNyxQJqZmZkZ37FANDMzM7PhsUDNzMzMTOSxQGdmZmbm5rFAAAAAAIDpsUCamZmZGeyxQDQzMzOz7rFAzczMzEzxsUBnZmZm5vOxQAAAAACA9rFAmpmZmRn5sUA0MzMzs/uxQM3MzMxM/rFAZ2ZmZuYAskAAAAAAgAOyQJqZmZkZBrJANDMzM7MIskDNzMzMTAuyQGdmZmbmDbJAAAAAAIAQskCamZmZGROyQDQzMzOzFbJAzczMzEwYskBnZmZm5hqyQAAAAACAHbJAmpmZmRkgskA0MzMzsyKyQM3MzMxMJbJAZ2ZmZuYnskAAAAAAgCqyQJqZmZkZLbJANDMzM7MvskDNzMzMTDKyQGdmZmbmNLJAAAAAAIA3skCamZmZGTqyQDQzMzOzPLJAzczMzEw/skBnZmZm5kGyQAAAAACARLJAmpmZmRlHskA0MzMzs0myQM3MzMxMTLJAZ2ZmZuZOskAAAAAAgFGyQJqZmZkZVLJANDMzM7NWskDNzMzMTFmyQGdmZmbmW7JAAAAAAIBeskCamZmZGWGyQDQzMzOzY7JAzczMzExmskBnZmZm5miyQAAAAACAa7JAmpmZmRluskA0MzMzs3CyQM3MzMxMc7JAZ2ZmZuZ1skAAAAAAgHiyQJqZmZkZe7JANDMzM7N9skDNzMzMTICyQGdmZmbmgrJAAAAAAICFskCamZmZGYiyQDQzMzOzirJAzczMzEyNskBnZmZm5o+yQAAAAACAkrJAmpmZmRmVskA0MzMzs5eyQM3MzMxMmrJAZ2ZmZuacskAAAAAAgJ+yQJqZmZkZorJANDMzM7OkskDNzMzMTKeyQGdmZmbmqbJAAAAAAICsskCamZmZGa+yQDQzMzOzsbJAzczMzEy0skBnZmZm5rayQAAAAACAubJAmpmZmRm8skA0MzMzs76yQM3MzMxMwbJAZ2ZmZubDskAAAAAAgMayQJqZmZkZybJANDMzM7PLskDNzMzMTM6yQGdmZmbm0LJAAAAAAIDTskCamZmZGdayQDQzMzOz2LJAzczMzEzbskBnZmZm5t2yQAAAAACA4LJAmpmZmRnjskA0MzMzs+WyQM3MzMxM6LJAZ2ZmZubqskAAAAAAgO2yQJqZmZkZ8LJANDMzM7PyskDNzMzMTPWyQGdmZmbm97JAAAAAAID6skCamZmZGf2yQDQzMzOz/7JAzczMzEwCs0BnZmZm5gSzQAAAAACAB7NAmpmZmRkKs0A0MzMzswyzQM3MzMxMD7NAZ2ZmZuYRs0AAAAAAgBSzQJqZmZkZF7NANDMzM7MZs0DNzMzMTByzQGdmZmbmHrNAAAAAAIAhs0CamZmZGSSzQDQzMzOzJrNAzczMzEwps0BnZmZm5iuzQAAAAACALrNAmpmZmRkxs0A0MzMzszOzQM3MzMxMNrNAZ2ZmZuY4s0AAAAAAgDuzQJqZmZkZPrNANDMzM7NAs0DNzMzMTEOzQGdmZmbmRbNAAAAAAIBIs0CamZmZGUuzQDQzMzOzTbNAzczMzExQs0BnZmZm5lKzQAAAAACAVbNAmpmZmRlYs0A0MzMzs1qzQM3MzMxMXbNAZ2ZmZuZfs0AAAAAAgGKzQJqZmZkZZbNANDMzM7Nns0DNzMzMTGqzQGdmZmbmbLNAAAAAAIBvs0CamZmZGXKzQDQzMzOzdLNAzczMzEx3s0BnZmZm5nmzQAAAAACAfLNAmpmZmRl/s0A0MzMzs4GzQM3MzMxMhLNAZ2ZmZuaGs0AAAAAAgImzQJqZmZkZjLNANDMzM7OOs0DNzMzMTJGzQGdmZmbmk7NAAAAAAICWs0CamZmZGZmzQDQzMzOzm7NAzczMzEyes0BnZmZm5qCzQAAAAACAo7NAmpmZmRmms0A0MzMzs6izQM3MzMxMq7NAZ2ZmZuats0AAAAAAgLCzQJqZmZkZs7NANDMzM7O1s0DNzMzMTLizQGdmZmbmurNAAAAAAIC9s0CamZmZGcCzQDQzMzOzwrNAzczMzEzFs0BnZmZm5sezQAAAAACAyrNAmpmZmRnNs0A0MzMzs8+zQM3MzMxM0rNAZ2ZmZubUs0AAAAAAgNezQJqZmZkZ2rNANDMzM7Pcs0DNzMzMTN+zQGdmZmbm4bNAAAAAAIDks0CamZmZGeezQDQzMzOz6bNAzczMzEzss0BnZmZm5u6zQAAAAACA8bNAmpmZmRn0s0A0MzMzs/azQM3MzMxM+bNAZ2ZmZub7s0AAAAAAgP6zQJqZmZkZAbRANDMzM7MDtEDNzMzMTAa0QGdmZmbmCLRAAAAAAIALtECamZmZGQ60QDQzMzOzELRAzczMzEwTtEBnZmZm5hW0QAAAAACAGLRAmpmZmRkbtEA0MzMzsx20QM3MzMxMILRAZ2ZmZuYitEAAAAAAgCW0QJqZmZkZKLRANDMzM7MqtEDNzMzMTC20QGdmZmbmL7RAAAAAAIAytECamZmZGTW0QDQzMzOzN7RAzczMzEw6tEBnZmZm5jy0QAAAAACAP7RAmpmZmRlCtEA0MzMzs0S0QM3MzMxMR7RAZ2ZmZuZJtEAAAAAAgEy0QJqZmZkZT7RANDMzM7NRtEDNzMzMTFS0QGdmZmbmVrRAAAAAAIBZtECamZmZGVy0QDQzMzOzXrRAzczMzExhtEBnZmZm5mO0QAAAAACAZrRAmpmZmRlptEA0MzMzs2u0QM3MzMxMbrRAZ2ZmZuZwtEAAAAAAgHO0QJqZmZkZdrRANDMzM7N4tEDNzMzMTHu0QGdmZmbmfbRAAAAAAICAtECamZmZGYO0QDQzMzOzhbRAzczMzEyItEBnZmZm5oq0QAAAAACAjbRAmpmZmRmQtEA0MzMzs5K0QM3MzMxMlbRAZ2ZmZuaXtEAAAAAAgJq0QJqZmZkZnbRANDMzM7OftEDNzMzMTKK0QGdmZmbmpLRAAAAAAICntECamZmZGaq0QDQzMzOzrLRAzczMzEyvtEBnZmZm5rG0QAAAAACAtLRAmpmZmRm3tEA0MzMzs7m0QM3MzMxMvLRAZ2ZmZua+tEAAAAAAgMG0QJqZmZkZxLRANDMzM7PGtEDNzMzMTMm0QGdmZmbmy7RAAAAAAIDOtECamZmZGdG0QDQzMzOz07RAzczMzEzWtEBnZmZm5ti0QAAAAACA27RAmpmZmRnetEA0MzMzs+C0QM3MzMxM47RAZ2ZmZubltEAAAAAAgOi0QJqZmZkZ67RANDMzM7PttEDNzMzMTPC0QGdmZmbm8rRAAAAAAID1tECamZmZGfi0QDQzMzOz+rRAzczMzEz9tEBnZmZm5v+0QAAAAACAArVAmpmZmRkFtUA0MzMzswe1QM3MzMxMCrVAZ2ZmZuYMtUAAAAAAgA+1QJqZmZkZErVANDMzM7MUtUDNzMzMTBe1QGdmZmbmGbVAAAAAAIActUCamZmZGR+1QDQzMzOzIbVAzczMzEwktUBnZmZm5ia1QAAAAACAKbVAmpmZmRkstUA0MzMzsy61QM3MzMxMMbVAZ2ZmZuYztUAAAAAAgDa1QJqZmZkZObVANDMzM7M7tUDNzMzMTD61QGdmZmbmQLVAAAAAAIBDtUCamZmZGUa1QDQzMzOzSLVAzczMzExLtUBnZmZm5k21QAAAAACAULVAmpmZmRlTtUA0MzMzs1W1QM3MzMxMWLVAZ2ZmZuZatUAAAAAAgF21QJqZmZkZYLVANDMzM7NitUDNzMzMTGW1QGdmZmbmZ7VAAAAAAIBqtUCamZmZGW21QDQzMzOzb7VAzczMzExytUBnZmZm5nS1QAAAAACAd7VAmpmZmRl6tUA0MzMzs3y1QM3MzMxMf7VAZ2ZmZuaBtUAAAAAAgIS1QJqZmZkZh7VANDMzM7OJtUDNzMzMTIy1QGdmZmbmjrVAAAAAAICRtUCamZmZGZS1QDQzMzOzlrVAzczMzEyZtUBnZmZm5pu1QAAAAACAnrVAmpmZmRmhtUA0MzMzs6O1QM3MzMxMprVAZ2ZmZuaotUAAAAAAgKu1QJqZmZkZrrVANDMzM7OwtUDNzMzMTLO1QGZmZmbmtbVAAAAAAIC4tUCamZmZGbu1QDQzMzOzvbVAzczMzEzAtUBmZmZm5sK1QAAAAACAxbVAmpmZmRnItUA0MzMzs8q1QM3MzMxMzbVAZmZmZubPtUAAAAAAgNK1QJqZmZkZ1bVANDMzM7PXtUDNzMzMTNq1QGZmZmbm3LVAAAAAAIDftUCamZmZGeK1QDQzMzOz5LVAzczMzEzntUBmZmZm5um1QAAAAACA7LVAmpmZmRnvtUA0MzMzs/G1QM3MzMxM9LVAZmZmZub2tUAAAAAAgPm1QJqZmZkZ/LVANDMzM7P+tUDNzMzMTAG2QGZmZmbmA7ZAAAAAAIAGtkCamZmZGQm2QDQzMzOzC7ZAzczMzEwOtkBmZmZm5hC2QAAAAACAE7ZAmpmZmRkWtkA0MzMzsxi2QM3MzMxMG7ZAZmZmZuYdtkAAAAAAgCC2QJqZmZkZI7ZANDMzM7MltkDNzMzMTCi2QGZmZmbmKrZAAAAAAIAttkCamZmZGTC2QDQzMzOzMrZAzczMzEw1tkBmZmZm5je2QAAAAACAOrZAmpmZmRk9tkA0MzMzsz+2QM3MzMxMQrZAZmZmZuZEtkAAAAAAgEe2QJqZmZkZSrZANDMzM7NMtkDNzMzMTE+2QGZmZmbmUbZAAAAAAIBUtkCamZmZGVe2QDQzMzOzWbZAzczMzExctkBmZmZm5l62QAAAAACAYbZAmpmZmRlktkA0MzMzs2a2QM3MzMxMabZAZmZmZuZrtkAAAAAAgG62QJqZmZkZcbZANDMzM7NztkDNzMzMTHa2QGZmZmbmeLZAAAAAAIB7tkCamZmZGX62QDQzMzOzgLZAzczMzEyDtkBmZmZm5oW2QAAAAACAiLZAmpmZmRmLtkA0MzMzs422QM3MzMxMkLZAZmZmZuaStkAAAAAAgJW2QJqZmZkZmLZANDMzM7OatkDNzMzMTJ22QGZmZmbmn7ZAAAAAAICitkCamZmZGaW2QDQzMzOzp7ZAzczMzEyqtkBmZmZm5qy2QAAAAACAr7ZAmpmZmRmytkA0MzMzs7S2QM3MzMxMt7ZAZmZmZua5tkAAAAAAgLy2QJqZmZkZv7ZANDMzM7PBtkDNzMzMTMS2QGZmZmbmxrZAAAAAAIDJtkCamZmZGcy2QDQzMzOzzrZAzczMzEzRtkBmZmZm5tO2QAAAAACA1rZAmpmZmRnZtkA0MzMzs9u2QM3MzMxM3rZAZmZmZubgtkAAAAAAgOO2QJqZmZkZ5rZANDMzM7PotkDNzMzMTOu2QGZmZmbm7bZAAAAAAIDwtkCamZmZGfO2QDQzMzOz9bZAzczMzEz4tkBmZmZm5vq2QAAAAACA/bZAmpmZmRkAt0A0MzMzswK3QM3MzMxMBbdAZmZmZuYHt0AAAAAAgAq3QJqZmZkZDbdANDMzM7MPt0DNzMzMTBK3QGZmZmbmFLdAAAAAAIAXt0CamZmZGRq3QDQzMzOzHLdAzczMzEwft0BmZmZm5iG3QAAAAACAJLdAmpmZmRknt0A0MzMzsym3QM3MzMxMLLdAZmZmZuYut0AAAAAAgDG3QJqZmZkZNLdANDMzM7M2t0DNzMzMTDm3QGZmZmbmO7dAAAAAAIA+t0CamZmZGUG3QDQzMzOzQ7dAzczMzExGt0BmZmZm5ki3QAAAAACAS7dAmpmZmRlOt0A0MzMzs1C3QM3MzMxMU7dAZmZmZuZVt0AAAAAAgFi3QJqZmZkZW7dANDMzM7Ndt0DNzMzMTGC3QGZmZmbmYrdAAAAAAIBlt0CamZmZGWi3QDQzMzOzardAzczMzExtt0BmZmZm5m+3QAAAAACAcrdAmpmZmRl1t0A0MzMzs3e3QM3MzMxMerdAZmZmZuZ8t0AAAAAAgH+3QJqZmZkZgrdANDMzM7OEt0DNzMzMTIe3QGZmZmbmibdAAAAAAICMt0CamZmZGY+3QDQzMzOzkbdAzczMzEyUt0BmZmZm5pa3QAAAAACAmbdAmpmZmRmct0A0MzMzs563QM3MzMxMobdAZmZmZuajt0AAAAAAgKa3QJqZmZkZqbdANDMzM7Ort0DNzMzMTK63QGZmZmbmsLdAAAAAAICzt0CamZmZGba3QDQzMzOzuLdAzczMzEy7t0BmZmZm5r23QAAAAACAwLdAmpmZmRnDt0A0MzMzs8W3QM3MzMxMyLdAZmZmZubKt0AAAAAAgM23QJqZmZkZ0LdANDMzM7PSt0DNzMzMTNW3QGZmZmbm17dAAAAAAIDat0CamZmZGd23QDQzMzOz37dAzczMzEzit0BmZmZm5uS3QAAAAACA57dAmpmZmRnqt0A0MzMzs+y3QM3MzMxM77dAZmZmZubxt0AAAAAAgPS3QJqZmZkZ97dANDMzM7P5t0DNzMzMTPy3QGZmZmbm/rdAAAAAAIABuECamZmZGQS4QDQzMzOzBrhAzczMzEwJuEBmZmZm5gu4QAAAAACADrhAmpmZmRkRuEA0MzMzsxO4QM3MzMxMFrhAZmZmZuYYuEAAAAAAgBu4QJqZmZkZHrhANDMzM7MguEDNzMzMTCO4QGZmZmbmJbhAAAAAAIAouECamZmZGSu4QDQzMzOzLbhAzczMzEwwuEBmZmZm5jK4QAAAAACANbhAmpmZmRk4uEA0MzMzszq4QM3MzMxMPbhAZmZmZuY/uEAAAAAAgEK4QJqZmZkZRbhANDMzM7NHuEDNzMzMTEq4QGZmZmbmTLhAAAAAAIBPuECamZmZGVK4QDQzMzOzVLhAzczMzExXuEBmZmZm5lm4QAAAAACAXLhAmpmZmRlfuEA0MzMzs2G4QM3MzMxMZLhAZmZmZuZmuEAAAAAAgGm4QJqZmZkZbLhANDMzM7NuuEDNzMzMTHG4QGZmZmbmc7hAAAAAAIB2uECamZmZGXm4QDQzMzOze7hAzczMzEx+uEBmZmZm5oC4QAAAAACAg7hAmpmZmRmGuEA0MzMzs4i4QM3MzMxMi7hAZmZmZuaNuEAAAAAAgJC4QJqZmZkZk7hANDMzM7OVuEDNzMzMTJi4QGZmZmbmmrhAAAAAAICduECamZmZGaC4QDQzMzOzorhAzczMzEyluEBmZmZm5qe4QAAAAACAqrhAmpmZmRmtuEA0MzMzs6+4QM3MzMxMsrhAZmZmZua0uEAAAAAAgLe4QJqZmZkZurhANDMzM7O8uEDNzMzMTL+4QGZmZmbmwbhAAAAAAIDEuECamZmZGce4QDQzMzOzybhAzczMzEzMuEBmZmZm5s64QAAAAACA0bhAmpmZmRnUuEA0MzMzs9a4QM3MzMxM2bhAZmZmZubbuEAAAAAAgN64QJqZmZkZ4bhANDMzM7PjuEDNzMzMTOa4QGZmZmbm6LhAAAAAAIDruECamZmZGe64QDQzMzOz8LhAzczMzEzzuEBmZmZm5vW4QAAAAACA+LhAmpmZmRn7uEA0MzMzs/24QM3MzMxMALlAZmZmZuYCuUAAAAAAgAW5QJqZmZkZCLlANDMzM7MKuUDNzMzMTA25QGZmZmbmD7lAAAAAAIASuUCamZmZGRW5QDQzMzOzF7lAzczMzEwauUBmZmZm5hy5QAAAAACAH7lAmpmZmRkiuUA0MzMzsyS5QM3MzMxMJ7lAZmZmZuYpuUAAAAAAgCy5QJqZmZkZL7lANDMzM7MxuUDNzMzMTDS5QGZmZmbmNrlAAAAAAIA5uUCamZmZGTy5QDQzMzOzPrlAzczMzExBuUBmZmZm5kO5QAAAAACARrlAmpmZmRlJuUA0MzMzs0u5QM3MzMxMTrlAZmZmZuZQuUAAAAAAgFO5QJqZmZkZVrlANDMzM7NYuUDNzMzMTFu5QGZmZmbmXblAAAAAAIBguUCamZmZGWO5QDQzMzOzZblAzczMzExouUBmZmZm5mq5QAAAAACAbblAmpmZmRlwuUA0MzMzs3K5QM3MzMxMdblAZmZmZuZ3uUAAAAAAgHq5QJqZmZkZfblANDMzM7N/uUDNzMzMTIK5QGZmZmbmhLlAAAAAAICHuUCamZmZGYq5QDQzMzOzjLlAzczMzEyPuUBmZmZm5pG5QAAAAACAlLlAmpmZmRmXuUA0MzMzs5m5QM3MzMxMnLlAZmZmZuaeuUAAAAAAgKG5QJqZmZkZpLlANDMzM7OmuUDNzMzMTKm5QGZmZmbmq7lAAAAAAICuuUCamZmZGbG5QDQzMzOzs7lAzczMzEy2uUBmZmZm5ri5QAAAAACAu7lAmpmZmRm+uUA0MzMzs8C5QM3MzMxMw7lAZmZmZubFuUAAAAAAgMi5QJqZmZkZy7lANDMzM7PNuUDNzMzMTNC5QGZmZmbm0rlAAAAAAIDVuUCamZmZGdi5QDQzMzOz2rlAzczMzEzduUBmZmZm5t+5QAAAAACA4rlAmpmZmRnluUA0MzMzs+e5QM3MzMxM6rlAZmZmZubsuUAAAAAAgO+5QJqZmZkZ8rlANDMzM7P0uUDNzMzMTPe5QGZmZmbm+blAAAAAAID8uUCamZmZGf+5QDQzMzOzAbpAzczMzEwEukBmZmZm5ga6QAAAAACACbpAmpmZmRkMukA0MzMzsw66QM3MzMxMEbpAZmZmZuYTukAAAAAAgBa6QJqZmZkZGbpANDMzM7MbukDNzMzMTB66QGZmZmbmILpAAAAAAIAjukCamZmZGSa6QDQzMzOzKLpAzczMzEwrukBmZmZm5i26QAAAAACAMLpAmpmZmRkzukA0MzMzszW6QM3MzMxMOLpAZmZmZuY6ukAAAAAAgD26QJqZmZkZQLpANDMzM7NCukDNzMzMTEW6QGZmZmbmR7pAAAAAAIBKukCamZmZGU26QDQzMzOzT7pAzczMzExSukBmZmZm5lS6QAAAAACAV7pAmpmZmRlaukA0MzMzs1y6QM3MzMxMX7pAZmZmZuZhukAAAAAAgGS6QJqZmZkZZ7pANDMzM7NpukDNzMzMTGy6QGZmZmbmbrpAAAAAAIBxukCamZmZGXS6QDQzMzOzdrpAzczMzEx5ukBmZmZm5nu6QAAAAACAfrpAmpmZmRmBukA0MzMzs4O6QM3MzMxMhrpAZmZmZuaIukAAAAAAgIu6QJqZmZkZjrpANDMzM7OQukDNzMzMTJO6QGZmZmbmlbpAAAAAAICYukCamZmZGZu6QDQzMzOznbpAzczMzEygukBmZmZm5qK6QAAAAACApbpAmpmZmRmoukA0MzMzs6q6QM3MzMxMrbpAZmZmZuavukAAAAAAgLK6QJqZmZkZtbpANDMzM7O3ukDNzMzMTLq6QGZmZmbmvLpAAAAAAIC/ukCamZmZGcK6QDQzMzOzxLpAzczMzEzHukBmZmZm5sm6QAAAAACAzLpAmpmZmRnPukA0MzMzs9G6QM3MzMxM1LpAZmZmZubWukAAAAAAgNm6QJqZmZkZ3LpANDMzM7PeukDNzMzMTOG6QGZmZmbm47pAAAAAAIDmukCamZmZGem6QDQzMzOz67pAzczMzEzuukBmZmZm5vC6QAAAAACA87pAmpmZmRn2ukA0MzMzs/i6QM3MzMxM+7pAZmZmZub9ukAAAAAAgAC7QJqZmZkZA7tANDMzM7MFu0DNzMzMTAi7QGZmZmbmCrtAAAAAAIANu0CamZmZGRC7QDQzMzOzErtAzczMzEwVu0BmZmZm5he7QAAAAACAGrtAmpmZmRkdu0A0MzMzsx+7QM3MzMxMIrtAZmZmZuYku0AAAAAAgCe7QJqZmZkZKrtANDMzM7Msu0DNzMzMTC+7QGZmZmbmMbtAAAAAAIA0u0CamZmZGTe7QDQzMzOzObtAzczMzEw8u0BmZmZm5j67QAAAAACAQbtAmpmZmRlEu0A0MzMzs0a7QM3MzMxMSbtAZmZmZuZLu0AAAAAAgE67QJqZmZkZUbtANDMzM7NTu0DNzMzMTFa7QGZmZmbmWLtAAAAAAIBbu0CamZmZGV67QDQzMzOzYLtAzczMzExju0BmZmZm5mW7QAAAAACAaLtAmpmZmRlru0A0MzMzs227QM3MzMxMcLtAZmZmZuZyu0AAAAAAgHW7QJqZmZkZeLtANDMzM7N6u0DNzMzMTH27QGZmZmbmf7tAAAAAAICCu0CamZmZGYW7QDQzMzOzh7tAzczMzEyKu0BmZmZm5oy7QAAAAACAj7tAmpmZmRmSu0A0MzMzs5S7QM3MzMxMl7tAZmZmZuaZu0AAAAAAgJy7QJqZmZkZn7tANDMzM7Ohu0DNzMzMTKS7QGZmZmbmprtAAAAAAICpu0CamZmZGay7QDQzMzOzrrtAzczMzEyxu0BmZmZm5rO7QAAAAACAtrtAmpmZmRm5u0A0MzMzs7u7QM3MzMxMvrtAZmZmZubAu0AAAAAAgMO7QJqZmZkZxrtANDMzM7PIu0DNzMzMTMu7QGZmZmbmzbtAAAAAAIDQu0CamZmZGdO7QDQzMzOz1btAzczMzEzYu0BmZmZm5tq7QAAAAACA3btAmpmZmRngu0A0MzMzs+K7QM3MzMxM5btAZmZmZubnu0AAAAAAgOq7QJqZmZkZ7btANDMzM7Pvu0DNzMzMTPK7QGZmZmbm9LtAAAAAAID3u0CamZmZGfq7QDQzMzOz/LtAzczMzEz/u0BmZmZm5gG8QAAAAACABLxAmpmZmRkHvEA0MzMzswm8QM3MzMxMDLxAZmZmZuYOvEAAAAAAgBG8QJqZmZkZFLxANDMzM7MWvEDNzMzMTBm8QGZmZmbmG7xAAAAAAIAevECamZmZGSG8QDQzMzOzI7xAzczMzEwmvEBmZmZm5ii8QAAAAACAK7xAmpmZmRkuvEA0MzMzszC8QM3MzMxMM7xAZmZmZuY1vEAAAAAAgDi8QJqZmZkZO7xANDMzM7M9vEDNzMzMTEC8QGZmZmbmQrxAAAAAAIBFvECamZmZGUi8QDQzMzOzSrxAzczMzExNvEBmZmZm5k+8QAAAAACAUrxAmpmZmRlVvEA0MzMzs1e8QM3MzMxMWrxAZmZmZuZcvEAAAAAAgF+8QJqZmZkZYrxANDMzM7NkvEDNzMzMTGe8QGZmZmbmabxAAAAAAIBsvECamZmZGW+8QDQzMzOzcbxAzczMzEx0vEBmZmZm5na8QAAAAACAebxAmpmZmRl8vEA0MzMzs368QM3MzMxMgbxAZmZmZuaDvEAAAAAAgIa8QJqZmZkZibxANDMzM7OLvEDNzMzMTI68QGZmZmbmkLxAAAAAAICTvECamZmZGZa8QDQzMzOzmLxAzczMzEybvEBmZmZm5p28QAAAAACAoLxAmpmZmRmjvEA0MzMzs6W8QM3MzMxMqLxAZmZmZuaqvEAAAAAAgK28QJqZmZkZsLxANDMzM7OyvEDNzMzMTLW8QGZmZmbmt7xAAAAAAIC6vECamZmZGb28QDQzMzOzv7xAzczMzEzCvEBmZmZm5sS8QAAAAACAx7xAmpmZmRnKvEA0MzMzs8y8QM3MzMxMz7xAZmZmZubRvEAAAAAAgNS8QJqZmZkZ17xANDMzM7PZvEDNzMzMTNy8QGZmZmbm3rxAAAAAAIDhvECamZmZGeS8QDQzMzOz5rxAzczMzEzpvEBmZmZm5uu8QAAAAACA7rxAmpmZmRnxvEA0MzMzs/O8QM3MzMxM9rxAZmZmZub4vEAAAAAAgPu8QJqZmZkZ/rxANDMzM7MAvUDNzMzMTAO9QGZmZmbmBb1AAAAAAIAIvUCamZmZGQu9QDQzMzOzDb1AzczMzEwQvUBmZmZm5hK9QAAAAACAFb1AmpmZmRkYvUA0MzMzsxq9QM3MzMxMHb1AZmZmZuYfvUAAAAAAgCK9QJqZmZkZJb1ANDMzM7MnvUDNzMzMTCq9QGZmZmbmLL1AAAAAAIAvvUCamZmZGTK9QDQzMzOzNL1AzczMzEw3vUBmZmZm5jm9QAAAAACAPL1AmpmZmRk/vUA0MzMzs0G9QM3MzMxMRL1AZ2ZmZuZGvUAAAAAAgEm9QJqZmZkZTL1ANDMzM7NOvUDNzMzMTFG9QGdmZmbmU71AAAAAAIBWvUCamZmZGVm9QDQzMzOzW71AzczMzExevUBnZmZm5mC9QAAAAACAY71AmpmZmRlmvUA0MzMzs2i9QM3MzMxMa71AZ2ZmZuZtvUAAAAAAgHC9QJqZmZkZc71ANDMzM7N1vUDNzMzMTHi9QGdmZmbmer1AAAAAAIB9vUCamZmZGYC9QDQzMzOzgr1AzczMzEyFvUBnZmZm5oe9QAAAAACAir1AmpmZmRmNvUA0MzMzs4+9QM3MzMxMkr1AZ2ZmZuaUvUAAAAAAgJe9QJqZmZkZmr1ANDMzM7OcvUDNzMzMTJ+9QGdmZmbmob1AAAAAAICkvUCamZmZGae9QDQzMzOzqb1AzczMzEysvUBnZmZm5q69QAAAAACAsb1AmpmZmRm0vUA0MzMzs7a9QM3MzMxMub1AZ2ZmZua7vUAAAAAAgL69QJqZmZkZwb1ANDMzM7PDvUDNzMzMTMa9QGdmZmbmyL1AAAAAAIDLvUCamZmZGc69QDQzMzOz0L1AzczMzEzTvUBnZmZm5tW9QAAAAACA2L1AmpmZmRnbvUA0MzMzs929QM3MzMxM4L1AZ2ZmZubivUAAAAAAgOW9QJqZmZkZ6L1ANDMzM7PqvUDNzMzMTO29QGdmZmbm771AAAAAAIDyvUCamZmZGfW9QDQzMzOz971AzczMzEz6vUBnZmZm5vy9QAAAAACA/71AmpmZmRkCvkA0MzMzswS+QM3MzMxMB75AZ2ZmZuYJvkAAAAAAgAy+QJqZmZkZD75ANDMzM7MRvkDNzMzMTBS+QGdmZmbmFr5AAAAAAIAZvkCamZmZGRy+QDQzMzOzHr5AzczMzEwhvkBnZmZm5iO+QAAAAACAJr5AmpmZmRkpvkA0MzMzsyu+QM3MzMxMLr5AZ2ZmZuYwvkAAAAAAgDO+QJqZmZkZNr5ANDMzM7M4vkDNzMzMTDu+QGdmZmbmPb5AAAAAAIBAvkCamZmZGUO+QDQzMzOzRb5AzczMzExIvkBnZmZm5kq+QAAAAACATb5AmpmZmRlQvkA0MzMzs1K+QM3MzMxMVb5AZ2ZmZuZXvkAAAAAAgFq+QJqZmZkZXb5ANDMzM7NfvkDNzMzMTGK+QGdmZmbmZL5AAAAAAIBnvkCamZmZGWq+QDQzMzOzbL5AzczMzExvvkBnZmZm5nG+QAAAAACAdL5AmpmZmRl3vkA0MzMzs3m+QM3MzMxMfL5AZ2ZmZuZ+vkAAAAAAgIG+QJqZmZkZhL5ANDMzM7OGvkDNzMzMTIm+QGdmZmbmi75AAAAAAICOvkCamZmZGZG+QDQzMzOzk75AzczMzEyWvkBnZmZm5pi+QAAAAACAm75AmpmZmRmevkA0MzMzs6C+QM3MzMxMo75AZ2ZmZualvkAAAAAAgKi+QJqZmZkZq75ANDMzM7OtvkDNzMzMTLC+QGdmZmbmsr5AAAAAAIC1vkCamZmZGbi+QDQzMzOzur5AzczMzEy9vkBnZmZm5r++QAAAAACAwr5AmpmZmRnFvkA0MzMzs8e+QM3MzMxMyr5AZ2ZmZubMvkAAAAAAgM++QJqZmZkZ0r5ANDMzM7PUvkDNzMzMTNe+QGdmZmbm2b5AAAAAAIDcvkCamZmZGd++QDQzMzOz4b5AzczMzEzkvkBnZmZm5ua+QAAAAACA6b5AmpmZmRnsvkA0MzMzs+6+QM3MzMxM8b5AZ2ZmZubzvkAAAAAAgPa+QJqZmZkZ+b5ANDMzM7P7vkDNzMzMTP6+QGdmZmbmAL9AAAAAAIADv0CamZmZGQa/QDQzMzOzCL9AzczMzEwLv0BnZmZm5g2/QAAAAACAEL9AmpmZmRkTv0A0MzMzsxW/QM3MzMxMGL9AZ2ZmZuYav0AAAAAAgB2/QJqZmZkZIL9ANDMzM7Miv0DNzMzMTCW/QGdmZmbmJ79AAAAAAIAqv0CamZmZGS2/QDQzMzOzL79AzczMzEwyv0BnZmZm5jS/QAAAAACAN79AmpmZmRk6v0A0MzMzszy/QM3MzMxMP79AZ2ZmZuZBv0AAAAAAgES/QJqZmZkZR79ANDMzM7NJv0DNzMzMTEy/QGdmZmbmTr9AAAAAAIBRv0CamZmZGVS/QDQzMzOzVr9AzczMzExZv0BnZmZm5lu/QAAAAACAXr9AmpmZmRlhv0A0MzMzs2O/QM3MzMxMZr9AZ2ZmZuZov0AAAAAAgGu/QJqZmZkZbr9ANDMzM7Nwv0DNzMzMTHO/QGdmZmbmdb9AAAAAAIB4v0CamZmZGXu/QDQzMzOzfb9AzczMzEyAv0BnZmZm5oK/QAAAAACAhb9AmpmZmRmIv0A0MzMzs4q/QM3MzMxMjb9AZ2ZmZuaPv0AAAAAAgJK/QJqZmZkZlb9ANDMzM7OXv0DNzMzMTJq/QGdmZmbmnL9AAAAAAICfv0CamZmZGaK/QDQzMzOzpL9AzczMzEynv0BnZmZm5qm/QAAAAACArL9AmpmZmRmvv0A0MzMzs7G/QM3MzMxMtL9AZ2ZmZua2v0AAAAAAgLm/QJqZmZkZvL9ANDMzM7O+v0DNzMzMTMG/QGdmZmbmw79AAAAAAIDGv0CamZmZGcm/QDQzMzOzy79AzczMzEzOv0BnZmZm5tC/QAAAAACA079AmpmZmRnWv0A0MzMzs9i/QM3MzMxM279AZ2ZmZubdv0AAAAAAgOC/QJqZmZkZ479ANDMzM7Plv0DNzMzMTOi/QGdmZmbm6r9AAAAAAIDtv0CamZmZGfC/QDQzMzOz8r9AzczMzEz1v0BnZmZm5ve/QAAAAACA+r9AmpmZmRn9v0A0MzMzs/+/QGZmZmYmAcBANDMzM3MCwEAAAAAAwAPAQM3MzMwMBcBAmpmZmVkGwEBmZmZmpgfAQDQzMzPzCMBAAAAAAEAKwEDNzMzMjAvAQJqZmZnZDMBAZmZmZiYOwEA0MzMzcw/AQAAAAADAEMBAzczMzAwSwECamZmZWRPAQGZmZmamFMBANDMzM/MVwEAAAAAAQBfAQM3MzMyMGMBAmpmZmdkZwEBmZmZmJhvAQDQzMzNzHMBAAAAAAMAdwEDNzMzMDB/AQJqZmZlZIMBAZmZmZqYhwEA0MzMz8yLAQAAAAABAJMBAzczMzIwlwECamZmZ2SbAQGZmZmYmKMBANDMzM3MpwEAAAAAAwCrAQM3MzMwMLMBAmpmZmVktwEBmZmZmpi7AQDQzMzPzL8BAAAAAAEAxwEDNzMzMjDLAQJqZmZnZM8BAZmZmZiY1wEA0MzMzczbAQAAAAADAN8BAzczMzAw5wECamZmZWTrAQGZmZmamO8BANDMzM/M8wEAAAAAAQD7AQM3MzMyMP8BAmpmZmdlAwEBmZmZmJkLAQDQzMzNzQ8BAAAAAAMBEwEDNzMzMDEbAQJqZmZlZR8BAZmZmZqZIwEA0MzMz80nAQAAAAABAS8BAzczMzIxMwECamZmZ2U3AQGZmZmYmT8BANDMzM3NQwEAAAAAAwFHAQM3MzMwMU8BAmpmZmVlUwEBmZmZmplXAQDQzMzPzVsBAAAAAAEBYwEDNzMzMjFnAQJqZmZnZWsBAZmZmZiZcwEA0MzMzc13AQAAAAADAXsBAzczMzAxgwECamZmZWWHAQGZmZmamYsBANDMzM/NjwEAAAAAAQGXAQM3MzMyMZsBAmpmZmdlnwEBmZmZmJmnAQDQzMzNzasBAAAAAAMBrwEDNzMzMDG3AQJqZmZlZbsBAZmZmZqZvwEA0MzMz83DAQAAAAABAcsBAzczMzIxzwECamZmZ2XTAQGZmZmYmdsBANDMzM3N3wEAAAAAAwHjAQM3MzMwMesBAmpmZmVl7wEBmZmZmpnzAQDQzMzPzfcBAAAAAAEB/wEDNzMzMjIDAQJqZmZnZgcBAZmZmZiaDwEA0MzMzc4TAQAAAAADAhcBAzczMzAyHwECamZmZWYjAQGZmZmamicBANDMzM/OKwEAAAAAAQIzAQM3MzMyMjcBAmpmZmdmOwEBmZmZmJpDAQDQzMzNzkcBAAAAAAMCSwEDNzMzMDJTAQJqZmZlZlcBAZmZmZqaWwEA0MzMz85fAQAAAAABAmcBAzczMzIyawECamZmZ2ZvAQGZmZmYmncBANDMzM3OewEAAAAAAwJ/AQM3MzMwMocBAmpmZmVmiwEBmZmZmpqPAQDQzMzPzpMBAAAAAAECmwEDNzMzMjKfAQJqZmZnZqMBAZmZmZiaqwEA0MzMzc6vAQAAAAADArMBAzczMzAyuwECamZmZWa/AQGZmZmamsMBANDMzM/OxwEAAAAAAQLPAQM3MzMyMtMBAmpmZmdm1wEBmZmZmJrfAQDQzMzNzuMBAAAAAAMC5wEDNzMzMDLvAQJqZmZlZvMBAZmZmZqa9wEA0MzMz877AQAAAAABAwMBAzczMzIzBwECamZmZ2cLAQGZmZmYmxMBANDMzM3PFwEAAAAAAwMbAQM3MzMwMyMBAmpmZmVnJwEBmZmZmpsrAQDQzMzPzy8BAAAAAAEDNwEDNzMzMjM7AQJqZmZnZz8BAZmZmZibRwEA0MzMzc9LAQAAAAADA08BAzczMzAzVwECamZmZWdbAQGZmZmam18BANDMzM/PYwEAAAAAAQNrAQM3MzMyM28BAmpmZmdncwEBmZmZmJt7AQDQzMzNz38BAAAAAAMDgwEDNzMzMDOLAQJqZmZlZ48BAZmZmZqbkwEA0MzMz8+XAQAAAAABA58BAzczMzIzowECamZmZ2enAQGZmZmYm68BANDMzM3PswEAAAAAAwO3AQM3MzMwM78BAmpmZmVnwwEBmZmZmpvHAQDQzMzPz8sBAAAAAAED0wEDNzMzMjPXAQJqZmZnZ9sBAZmZmZib4wEA0MzMzc/nAQAAAAADA+sBAzczMzAz8wECamZmZWf3AQGZmZmam/sBANDMzM/P/wEAAAAAAQAHBQM3MzMyMAsFAmpmZmdkDwUBmZmZmJgXBQDQzMzNzBsFAAAAAAMAHwUDNzMzMDAnBQJqZmZlZCsFAZmZmZqYLwUA0MzMz8wzBQAAAAABADsFAzczMzIwPwUCamZmZ2RDBQGZmZmYmEsFANDMzM3MTwUAAAAAAwBTBQM3MzMwMFsFAmpmZmVkXwUBmZmZmphjBQDQzMzPzGcFAAAAAAEAbwUDNzMzMjBzBQJqZmZnZHcFAZmZmZiYfwUA0MzMzcyDBQAAAAADAIcFAzczMzAwjwUCamZmZWSTBQGZmZmamJcFANDMzM/MmwUAAAAAAQCjBQM3MzMyMKcFAmpmZmdkqwUBmZmZmJizBQDQzMzNzLcFAAAAAAMAuwUDNzMzMDDDBQJqZmZlZMcFAZmZmZqYywUA0MzMz8zPBQAAAAABANcFAzczMzIw2wUCamZmZ2TfBQGZmZmYmOcFANDMzM3M6wUAAAAAAwDvBQM3MzMwMPcFAmpmZmVk+wUBmZmZmpj/BQDQzMzPzQMFAAAAAAEBCwUDNzMzMjEPBQJqZmZnZRMFAZmZmZiZGwUA0MzMzc0fBQAAAAADASMFAzczMzAxKwUCamZmZWUvBQGZmZmamTMFANDMzM/NNwUAAAAAAQE/BQM3MzMyMUMFAmpmZmdlRwUBmZmZmJlPBQDQzMzNzVMFAAAAAAMBVwUDNzMzMDFfBQJqZmZlZWMFAZmZmZqZZwUA0MzMz81rBQAAAAABAXMFAzczMzIxdwUCamZmZ2V7BQGZmZmYmYMFANDMzM3NhwUAAAAAAwGLBQM3MzMwMZMFAmpmZmVllwUBmZmZmpmbBQDQzMzPzZ8FAAAAAAEBpwUDNzMzMjGrBQJqZmZnZa8FAZmZmZiZtwUA0MzMzc27BQAAAAADAb8FAzczMzAxxwUCamZmZWXLBQGZmZmamc8FANDMzM/N0wUAAAAAAQHbBQM3MzMyMd8FAmpmZmdl4wUBmZmZmJnrBQDQzMzNze8FAAAAAAMB8wUDNzMzMDH7BQJqZmZlZf8FAZmZmZqaAwUA0MzMz84HBQAAAAABAg8FAzczMzIyEwUCamZmZ2YXBQGZmZmYmh8FANDMzM3OIwUAAAAAAwInBQM3MzMwMi8FAmpmZmVmMwUBmZmZmpo3BQDQzMzPzjsFAAAAAAECQwUDNzMzMjJHBQJqZmZnZksFAZmZmZiaUwUA0MzMzc5XBQAAAAADAlsFAzczMzAyYwUCamZmZWZnBQGZmZmammsFANDMzM/ObwUAAAAAAQJ3BQM3MzMyMnsFAmpmZmdmfwUBmZmZmJqHBQDQzMzNzosFAAAAAAMCjwUDNzMzMDKXBQJqZmZlZpsFAZmZmZqanwUA0MzMz86jBQAAAAABAqsFAzczMzIyrwUCamZmZ2azBQGZmZmYmrsFANDMzM3OvwUAAAAAAwLDBQM3MzMwMssFAmpmZmVmzwUBmZmZmprTBQDQzMzPztcFAAAAAAEC3wUDNzMzMjLjBQJqZmZnZucFAZmZmZia7wUA0MzMzc7zBQAAAAADAvcFAzczMzAy/wUCamZmZWcDBQGZmZmamwcFANDMzM/PCwUAAAAAAQMTBQM3MzMyMxcFAmpmZmdnGwUBmZmZmJsjBQDQzMzNzycFAAAAAAMDKwUDNzMzMDMzBQJqZmZlZzcFAZmZmZqbOwUA0MzMz88/BQAAAAABA0cFAzczMzIzSwUCamZmZ2dPBQGZmZmYm1cFANDMzM3PWwUAAAAAAwNfBQM3MzMwM2cFAmpmZmVnawUBmZmZmptvBQDQzMzPz3MFAAAAAAEDewUDNzMzMjN/BQJqZmZnZ4MFAZmZmZibiwUA0MzMzc+PBQAAAAADA5MFAzczMzAzmwUCamZmZWefBQGZmZmam6MFANDMzM/PpwUAAAAAAQOvBQM3MzMyM7MFAmpmZmdntwUBmZmZmJu/BQDQzMzNz8MFAAAAAAMDxwUDNzMzMDPPBQJqZmZlZ9MFAZmZmZqb1wUA0MzMz8/bBQAAAAABA+MFAzczMzIz5wUCamZmZ2frBQGZmZmYm/MFANDMzM3P9wUAAAAAAwP7BQM3MzMwMAMJAmpmZmVkBwkBmZmZmpgLCQDQzMzPzA8JAAAAAAEAFwkDNzMzMjAbCQJqZmZnZB8JAZmZmZiYJwkA0MzMzcwrCQAAAAADAC8JAzczMzAwNwkCamZmZWQ7CQGZmZmamD8JANDMzM/MQwkAAAAAAQBLCQM3MzMyME8JAmpmZmdkUwkBmZmZmJhbCQDQzMzNzF8JAAAAAAMAYwkDNzMzMDBrCQJqZmZlZG8JAZmZmZqYcwkA0MzMz8x3CQAAAAABAH8JAzczMzIwgwkCamZmZ2SHCQGZmZmYmI8JANDMzM3MkwkAAAAAAwCXCQM3MzMwMJ8JAmpmZmVkowkBmZmZmpinCQDQzMzPzKsJAAAAAAEAswkDNzMzMjC3CQJqZmZnZLsJAZmZmZiYwwkA0MzMzczHCQAAAAADAMsJAzczMzAw0wkCamZmZWTXCQGZmZmamNsJANDMzM/M3wkAAAAAAQDnCQM3MzMyMOsJAmpmZmdk7wkBmZmZmJj3CQDQzMzNzPsJAAAAAAMA/wkDNzMzMDEHCQJqZmZlZQsJAZmZmZqZDwkA0MzMz80TCQAAAAABARsJAzczMzIxHwkCamZmZ2UjCQGZmZmYmSsJANDMzM3NLwkAAAAAAwEzCQM3MzMwMTsJAmpmZmVlPwkBmZmZmplDCQDQzMzPzUcJAAAAAAEBTwkDNzMzMjFTCQJqZmZnZVcJAZmZmZiZXwkA0MzMzc1jCQAAAAADAWcJAzczMzAxbwkCamZmZWVzCQGZmZmamXcJANDMzM/NewkAAAAAAQGDCQM3MzMyMYcJAmpmZmdliwkBmZmZmJmTCQDQzMzNzZcJAAAAAAMBmwkDNzMzMDGjCQJqZmZlZacJAZmZmZqZqwkA0MzMz82vCQAAAAABAbcJAzczMzIxuwkCamZmZ2W/CQGZmZmYmccJANDMzM3NywkAAAAAAwHPCQM3MzMwMdcJAmpmZmVl2wkBmZmZmpnfCQDQzMzPzeMJAAAAAAEB6wkDNzMzMjHvCQJqZmZnZfMJAZmZmZiZ+wkA0MzMzc3/CQAAAAADAgMJAzczMzAyCwkCamZmZWYPCQGZmZmamhMJANDMzM/OFwkAAAAAAQIfCQM3MzMyMiMJAmpmZmdmJwkBmZmZmJovCQDQzMzNzjMJAAAAAAMCNwkDNzMzMDI/CQJqZmZlZkMJAZmZmZqaRwkA0MzMz85LCQAAAAABAlMJAzczMzIyVwkCamZmZ2ZbCQGZmZmYmmMJANDMzM3OZwkAAAAAAwJrCQM3MzMwMnMJAmpmZmVmdwkBmZmZmpp7CQDQzMzPzn8JAAAAAAEChwkDNzMzMjKLCQJqZmZnZo8JAZmZmZialwkA0MzMzc6bCQAAAAADAp8JAzczMzAypwkCamZmZWarCQGZmZmamq8JANDMzM/OswkAAAAAAQK7CQM3MzMyMr8JAmpmZmdmwwkBmZmZmJrLCQDQzMzNzs8JAAAAAAMC0wkDNzMzMDLbCQJqZmZlZt8JAZmZmZqa4wkA0MzMz87nCQAAAAABAu8JAzczMzIy8wkCamZmZ2b3CQGZmZmYmv8JANDMzM3PAwkAAAAAAwMHCQM3MzMwMw8JAmpmZmVnEwkBmZmZmpsXCQDQzMzPzxsJAAAAAAEDIwkDNzMzMjMnCQJqZmZnZysJAZmZmZibMwkA0MzMzc83CQAAAAADAzsJAzczMzAzQwkCamZmZWdHCQGZmZmam0sJANDMzM/PTwkAAAAAAQNXCQM3MzMyM1sJAmpmZmdnXwkBmZmZmJtnCQDQzMzNz2sJAAAAAAMDbwkDNzMzMDN3CQJqZmZlZ3sJAZmZmZqbfwkA0MzMz8+DCQAAAAABA4sJAzczMzIzjwkCamZmZ2eTCQGZmZmYm5sJANDMzM3PnwkAAAAAAwOjCQM3MzMwM6sJAmpmZmVnrwkBmZmZmpuzCQDQzMzPz7cJAAAAAAEDvwkDNzMzMjPDCQJqZmZnZ8cJAZmZmZibzwkA0MzMzc/TCQAAAAADA9cJAzczMzAz3wkCamZmZWfjCQGZmZmam+cJANDMzM/P6wkAAAAAAQPzCQM3MzMyM/cJAmpmZmdn+wkBmZmZmJgDDQDQzMzNzAcNAAAAAAMACw0DNzMzMDATDQJqZmZlZBcNAZmZmZqYGw0A0MzMz8wfDQAAAAABACcNAzczMzIwKw0CamZmZ2QvDQGZmZmYmDcNANDMzM3MOw0AAAAAAwA/DQM3MzMwMEcNAmpmZmVkSw0BmZmZmphPDQDQzMzPzFMNAAAAAAEAWw0DNzMzMjBfDQJqZmZnZGMNAZmZmZiYaw0A0MzMzcxvDQAAAAADAHMNAzczMzAwew0CamZmZWR/DQGZmZmamIMNANDMzM/Mhw0AAAAAAQCPDQM3MzMyMJMNAmpmZmdklw0BmZmZmJifDQDQzMzNzKMNAAAAAAMApw0DNzMzMDCvDQJqZmZlZLMNAZmZmZqYtw0A0MzMz8y7DQAAAAABAMMNAzczMzIwxw0CamZmZ2TLDQGZmZmYmNMNANDMzM3M1w0AAAAAAwDbDQM3MzMwMOMNAmpmZmVk5w0BmZmZmpjrDQDQzMzPzO8NAAAAAAEA9w0DNzMzMjD7DQJqZmZnZP8NAZmZmZiZBw0A0MzMzc0LDQAAAAADAQ8NAzczMzAxFw0CamZmZWUbDQGZmZmamR8NANDMzM/NIw0AAAAAAQErDQM3MzMyMS8NAmpmZmdlMw0BmZmZmJk7DQDQzMzNzT8NAAAAAAMBQw0DNzMzMDFLDQJqZmZlZU8NAZmZmZqZUw0A0MzMz81XDQAAAAABAV8NAzczMzIxYw0CamZmZ2VnDQGZmZmYmW8NANDMzM3Ncw0AAAAAAwF3DQM3MzMwMX8NAmpmZmVlgw0BmZmZmpmHDQDQzMzPzYsNAAAAAAEBkw0DNzMzMjGXDQJqZmZnZZsNAZmZmZiZow0A0MzMzc2nDQAAAAADAasNAzczMzAxsw0CamZmZWW3DQGZmZmambsNANDMzM/Nvw0AAAAAAQHHDQM3MzMyMcsNAmpmZmdlzw0BmZmZmJnXDQDQzMzNzdsNAAAAAAMB3w0DNzMzMDHnDQJqZmZlZesNAZmZmZqZ7w0A0MzMz83zDQAAAAABAfsNAzczMzIx/w0CamZmZ2YDDQGZmZmYmgsNANDMzM3ODw0AAAAAAwITDQM3MzMwMhsNAmpmZmVmHw0A=\",\"dtype\":\"float64\",\"shape\":[2500]},\"y\":[0.0,0.0,0.0,0.0,0.0,0.0,0.0,0.0,0.0,0.0,0.0,0.0,0.0,0.0,0.0,0.0,0.0,0.0,0.0,0.0,0.0,0.0,0.0,0.0,0.0,0.0,0.0,0.0,0.0,0.0,0.0,0.0,0.0,0.0,0.0,0.0,0.0,0.0,0.0,0.0,0.0,0.0,0.0,0.0,0.0,0.0,0.0,0.0,0.0,0.0,0.0,0.0,0.0,0.0,0.0,0.0,0.0,0.0,0.0,0.0,0.0,0.0,0.0,0.0,0.0,0.0,0.0,0.0,0.0,0.0,0.0,0.0,0.0,0.0,0.0,0.0,0.0,0.0,0.0,0.0,0.0,0.0,0.0,0.0,0.0,0.0,0.0,0.0,0.0,0.0,0.0,0.0,0.0,0.0,0.0,0.0,0.0,0.0,0.0,0.0,0.0,0.0,0.0,0.0,0.0,0.0,0.0,0.0,0.0,0.0,0.0,0.0,0.0,0.0,0.0,0.0,0.0,0.0,0.0,0.0,0.0,0.0,0.0,0.0,0.0,0.0,0.0,0.0,0.0,0.0,0.0,0.0,0.0,0.0,0.0,0.0,0.0,0.0,0.0,0.0,0.0,0.0,0.0,0.0,0.0,0.0,0.0,0.0,0.0,0.0,0.0,0.0,0.0,0.0,0.0,0.0,0.0,0.0,0.0,0.0,0.0,0.0,0.0,0.0,0.0,0.0,0.0,0.0,0.0,0.0,0.0,0.0,0.0,0.0,0.0,0.0,0.0,0.0,0.0,0.0,0.0,0.0,0.0,0.0,0.0,0.0,0.0,0.0,0.0,0.0,0.0,0.0,0.0,0.0,0.0,0.0,0.0,0.0,0.0,0.0,0.0,0.0,0.0,0.0,0.0,0.0,0.0,0.0,0.0,0.0,0.0,0.0,0.0,0.0,0.0,0.0,0.0,0.0,0.0,0.0,0.0,0.0,0.0,0.0,0.0,0.0,0.0,0.0,0.0,0.0,0.0,0.0,0.0,0.0,0.0,0.0,0.0,0.0,0.0,0.0,0.0,0.0,0.0,0.0,0.0,0.0,0.0,0.0,0.0,0.0,0.0,0.0,0.0,0.0,0.0,0.0,0.0,0.0,0.0,0.0,0.0,0.0,0.0,0.0,0.0,0.0,0.0,0.0,0.0,0.0,0.0,0.0,0.0,0.0,0.0,0.0,0.0,0.0,0.0,0.0,0.0,0.0,0.0,0.0,0.0,0.0,0.0,0.0,0.0,0.0,0.0,0.0,0.0,0.0,0.0,0.0,0.0,0.0,0.0,0.0,0.0,0.0,0.0,0.0,0.0,0.0,0.0,0.0,0.0,0.0,0.0,0.0,0.0,0.0,0.0,0.0,0.0,0.0,0.0,0.0,0.0,0.0,0.0,0.0,0.0,0.0,0.0,0.0,0.0,0.0,0.0,0.0,0.0,0.0,0.0,0.0,0.0,0.0,0.0,0.0,0.0,0.0,0.0,0.0,0.0,0.0,0.0,0.0,0.0,0.0,0.0,0.0,0.0,0.0,0.0,0.0,0.0,0.0,0.0,0.0,0.0,0.0,0.0,0.0,0.0,0.0,0.0,0.0,0.0,0.0,0.0,0.0,0.0,0.0,0.0,0.0,0.0,0.0,0.0,0.0,0.0,0.0,0.0,0.0,0.0,0.0,0.0,0.0,0.0,0.0,0.0,0.0,0.0,0.0,0.0,0.0,0.0,0.0,0.0,0.0,0.0,0.0,0.0,0.0,0.0,0.0,0.0,0.0,0.0,0.0,0.0,0.0,0.0,0.0,0.0,0.0,0.0,0.0,0.0,0.0,0.0,0.0,0.0,0.0,0.0,0.0,0.0,0.0,0.0,0.0,0.0,0.0,0.0,0.0,0.0,0.0,0.0,0.0,0.0,0.0,0.0,0.0,0.0,0.0,0.0,0.0,0.0,0.0,0.0,0.0,0.0,0.0,0.0,0.0,0.0,0.0,0.0,0.0,0.0,0.0,0.0,0.0,0.0,0.0,0.0,0.0,0.0,0.0,0.0,0.0,0.0,0.0,0.0,0.0,0.0,0.0,0.0,-0.31565627455711365,-21.007369995117188,30.566679000854492,-1.6263444423675537,67.97786712646484,74.64643859863281,73.68185424804688,87.29952239990234,66.01667022705078,138.04428100585938,111.45147705078125,123.32073974609375,184.88674926757812,191.22325134277344,142.51678466796875,169.27264404296875,200.8037109375,138.4459228515625,102.80398559570312,172.5355682373047,239.51339721679688,188.5527801513672,228.14105224609375,283.55364990234375,262.86016845703125,335.61956787109375,170.7772979736328,254.6396484375,304.8232727050781,226.12014770507812,474.1475830078125,484.3715515136719,308.6063537597656,443.3979797363281,598.7196044921875,785.4414672851562,471.4674377441406,435.5093994140625,587.9480590820312,710.5772094726562,467.5212707519531,1037.985107421875,621.342529296875,643.4043579101562,575.7965087890625,1039.7423095703125,601.4911499023438,895.4829711914062,1125.7041015625,1314.97900390625,901.9837036132812,902.7445678710938,833.65478515625,780.002685546875,1056.5921630859375,1086.185546875,1187.5382080078125,1050.7283935546875,845.3493041992188,845.2628173828125,1018.4122924804688,1122.2862548828125,1186.2833251953125,1481.8868408203125,1671.0484619140625,1577.73583984375,1682.7230224609375,1823.781494140625,1604.8128662109375,1339.8072509765625,1103.6552734375,1400.6925048828125,1800.0762939453125,2029.69921875,2562.189453125,2349.75146484375,1681.025634765625,2458.015625,2596.85205078125,2323.9169921875,2383.097412109375,2127.89453125,3009.259033203125,2547.740234375,1995.1358642578125,1970.964599609375,2209.826416015625,2502.990966796875,2353.807861328125,2321.96240234375,2590.261474609375,2965.402587890625,3125.818115234375,3184.834228515625,2216.811767578125,2895.150390625,2084.498046875,2873.42041015625,2815.361572265625,3514.63720703125,3508.54248046875,3114.15673828125,3172.559326171875,3437.63916015625,3245.11962890625,2860.279052734375,3322.450927734375,3851.90185546875,3242.73779296875,2938.919189453125,3398.296875,3626.48876953125,3137.921875,4038.530517578125,3870.087158203125,3674.75830078125,3140.146240234375,3408.914306640625,3510.633056640625,3732.034912109375,3704.549072265625,3238.5302734375,4404.7607421875,3317.227783203125,3643.34375,4776.15234375,4013.129638671875,3772.218994140625,3696.0537109375,4233.349609375,4149.05517578125,3617.691650390625,3541.22802734375,4416.0947265625,4555.01953125,4536.947265625,4378.5595703125,5275.611328125,4832.41552734375,4613.85205078125,5186.99365234375,5022.44384765625,4572.72802734375,4971.73974609375,4821.98828125,5459.08349609375,4996.3935546875,4703.322265625,5323.40966796875,4990.8388671875,4905.2451171875,4652.3681640625,4705.78125,4603.4365234375,4581.2802734375,4578.15234375,4878.34814453125,5048.13037109375,5024.1474609375,4727.44677734375,4740.3818359375,5653.30859375,5996.81787109375,5485.28759765625,5768.56787109375,4560.638671875,4305.4404296875,4510.04052734375,4558.986328125,5177.677734375,5536.3134765625,5477.83544921875,4377.46826171875,5517.71533203125,6605.28173828125,5983.673828125,5834.6298828125,6147.5458984375,6262.0859375,6206.0234375,5687.95068359375,5816.38232421875,5708.876953125,6613.56689453125,6840.14306640625,6447.72509765625,6626.7509765625,6577.95068359375,6141.79638671875,5759.64794921875,6628.33642578125,6502.970703125,6932.50146484375,7592.50244140625,7938.1904296875,6951.50634765625,7353.7255859375,7079.24658203125,6883.94091796875,8139.54150390625,7935.1494140625,8146.18359375,7191.140625,6567.19970703125,6481.1552734375,6101.5634765625,7538.68994140625,7165.73681640625,7889.6962890625,8000.60302734375,8078.6513671875,8022.484375,8095.18896484375,8723.8544921875,8321.5966796875,7854.64697265625,8183.30419921875,8158.03125,8404.609375,7992.26220703125,7855.76904296875,9177.154296875,9053.517578125,8344.533203125,8147.26171875,7089.77490234375,8044.68896484375,7846.357421875,7949.93408203125,8302.3583984375,8467.646484375,9009.2021484375,9006.134765625,8837.669921875,8716.1474609375,8733.29296875,9931.90625,9924.73046875,9897.5400390625,10694.400390625,9629.2841796875,10309.5830078125,9690.6044921875,9246.5927734375,8688.822265625,9892.287109375,10382.279296875,10238.4287109375,10202.9267578125,10386.9755859375,10238.8232421875,10547.3818359375,9595.5166015625,9282.875,9339.07421875,9657.2958984375,10047.775390625,9377.6552734375,9375.68359375,10082.2333984375,10314.0283203125,10558.7626953125,11267.5224609375,11267.380859375,10476.234375,10608.5869140625,10532.271484375,11035.0810546875,10631.0341796875,10837.578125,11432.4990234375,11487.7255859375,10241.474609375,10720.7001953125,11022.787109375,10805.6162109375,10993.7822265625,11004.8623046875,11498.560546875,10948.0087890625,11429.263671875,11744.66015625,10987.2607421875,10270.6875,10089.0908203125,10381.1103515625,11079.052734375,10745.0380859375,11251.310546875,11497.2880859375,10525.990234375,10873.279296875,10361.2685546875,10423.0322265625,10786.3486328125,10395.9443359375,10602.4384765625,10714.66015625,10235.9521484375,10787.1748046875,11950.576171875,12534.3125,11829.1025390625,11913.193359375,11911.8232421875,11553.9443359375,11677.4111328125,12303.544921875,12972.4833984375,13446.40234375,14298.2197265625,13977.9677734375,13031.375,13749.826171875,13767.6875,14087.7138671875,14667.66015625,14161.6015625,14185.4892578125,11961.5400390625,13437.658203125,14990.3486328125,15019.0419921875,15417.095703125,15478.0751953125,14273.142578125,13818.6376953125,13258.0576171875,13329.0244140625,13746.0439453125,13172.6162109375,13738.15625,13657.7021484375,13773.0263671875,13767.7392578125,15066.154296875,15163.44921875,14873.4169921875,13893.0,13967.837890625,13317.8603515625,14971.30859375,15136.4052734375,15442.083984375,16233.798828125,16094.146484375,14955.0751953125,15147.28125,14916.0009765625,16458.494140625,15220.3466796875,15785.060546875,15725.798828125,15973.9873046875,15250.6845703125,15571.484375,15862.25390625,16365.2744140625,16567.791015625,16629.5,16719.3515625,16808.208984375,17207.087890625,17324.884765625,16439.16015625,16123.2763671875,16247.265625,16351.9140625,16139.5615234375,16563.65234375,16384.974609375,16414.052734375,16007.37890625,15500.4638671875,15606.5986328125,15564.9248046875,16270.9892578125,17940.857421875,17830.392578125,18197.447265625,18150.400390625,17536.591796875,17983.19921875,17754.8671875,17775.162109375,17959.1640625,18157.740234375,17130.68359375,17361.150390625,18147.314453125,17267.87109375,16747.21875,17183.919921875,17631.46875,16715.17578125,16494.86328125,16911.544921875,17418.703125,16125.283203125,15104.4208984375,15326.765625,14264.2607421875,13790.17578125,14014.876953125,14030.9130859375,14446.0693359375,14422.2412109375,14756.6884765625,14352.2158203125,15188.048828125,14272.45703125,15354.689453125,14369.5654296875,13908.3427734375,14726.52734375,14711.8359375,14536.1484375,14599.34375,14746.578125,15264.130859375,15060.138671875,14823.078125,14908.306640625,15350.6376953125,15944.197265625,15824.7666015625,15607.0048828125,15928.25390625,16385.716796875,16434.1875,16011.7451171875,16332.9130859375,17184.7265625,18210.77734375,17332.751953125,18412.74609375,18684.89453125,18509.734375,18898.982421875,19304.396484375,19246.8125,18422.951171875,16834.71875,15097.986328125,14348.517578125,14596.1171875,16089.318359375,17627.00390625,18604.26171875,19419.685546875,19297.38671875,18907.56640625,18797.267578125,18470.876953125,18212.677734375,17776.30078125,18817.396484375,18689.755859375,17929.33203125,18148.126953125,17225.18359375,17301.55859375,17803.03125,17149.0390625,17384.3984375,17840.3828125,17207.744140625,17183.486328125,17104.06640625,17056.095703125,17510.662109375,17577.87890625,17975.6640625,17814.580078125,18269.29296875,18281.23828125,18631.7578125,18421.994140625,18776.6640625,18514.47265625,18520.369140625,19866.8984375,20498.32421875,21019.740234375,21143.06640625,21374.279296875,21600.958984375,21784.236328125,22687.73828125,22457.453125,22417.673828125,23506.732421875,22946.462890625,23355.275390625,23509.47265625,24760.2734375,24825.962890625,25290.029296875,25818.46875,26082.865234375,26571.94140625,26587.2578125,26955.361328125,26834.392578125,26265.1875,26687.736328125,26300.73046875,26536.3828125,26613.59375,26935.876953125,26786.62109375,26257.841796875,26893.06640625,26755.298828125,26893.71484375,27216.97265625,26652.115234375,26202.3046875,26478.28125,26056.099609375,26795.92578125,26137.384765625,27077.08984375,27154.005859375,25896.27734375,25676.365234375,26400.830078125,27849.2890625,27354.822265625,27865.099609375,27825.716796875,27319.591796875,27103.703125,26446.287109375,27674.896484375,28382.236328125,27476.39453125,27844.26171875,26670.0,27735.052734375,27597.244140625,28308.119140625,28508.58984375,28636.908203125,28579.923828125,28739.849609375,27860.5234375,26324.71484375,24972.685546875,25776.54296875,27652.474609375,27406.90234375,27975.40234375,28005.09765625,29119.935546875,29440.37109375,29282.046875,28792.353515625,28405.642578125,28356.23828125,28462.244140625,28788.123046875,29600.609375,29408.642578125,28678.123046875,30093.708984375,30463.43359375,28981.9140625,28745.021484375,29212.5703125,29659.95703125,30338.8828125,30272.171875,29608.20703125,30029.35546875,29546.375,30163.3671875,29836.4296875,30595.150390625,29868.294921875,29107.80859375,29797.34765625,29827.751953125,29196.498046875,29104.30859375,29768.185546875,30480.087890625,30419.546875,30324.15625,30105.658203125,30240.1484375,30606.509765625,29922.353515625,28386.666015625,27971.365234375,29227.5703125,29954.970703125,30429.013671875,30553.341796875,29862.849609375,29704.552734375,30441.833984375,29654.447265625,29979.189453125,30713.2109375,29457.697265625,29959.439453125,29009.578125,29122.533203125,30034.666015625,31302.921875,31626.90625,30880.029296875,30755.62109375,30478.337890625,30239.115234375,30793.3359375,31436.310546875,30663.904296875,31232.29296875,32054.466796875,31585.22265625,32213.900390625,30955.78125,30645.0,30729.1015625,32497.921875,33271.48046875,32670.78515625,33359.921875,34122.828125,33721.93359375,33559.44140625,34781.69140625,34950.9609375,34202.4609375,34113.515625,33697.546875,33340.26953125,33870.359375,34441.3671875,34830.140625,34664.10546875,34807.80078125,34395.6484375,34826.18359375,34489.84765625,34274.96484375,36180.765625,36179.78515625,35878.76171875,35835.80078125,35745.734375,35383.296875,35616.6484375,35562.03125,36389.65625,36261.0859375,35026.52734375,33800.140625,34717.15234375,34937.9765625,35047.98046875,35060.5234375,35193.34765625,35819.62890625,35964.1953125,34826.1171875,35918.92578125,36756.8515625,36234.16796875,36126.48046875,36689.8828125,36699.6640625,35396.46875,33559.859375,33947.0546875,33597.01953125,36142.7265625,37070.2890625,37826.55859375,38092.109375,38084.265625,37517.9140625,37716.18359375,37590.16015625,38093.078125,38870.2421875,38840.421875,38419.1796875,39046.859375,39271.28515625,39419.76171875,39001.52734375,39688.5625,39269.3984375,38843.4609375,38149.15234375,38387.94140625,38930.67578125,38709.0625,37520.66015625,36396.92578125,37185.8515625,38190.76953125,37088.09765625,39020.48828125,39491.87109375,39998.68359375,40117.94140625,39943.2421875,40078.671875,39942.71875,38618.5625,38733.46484375,39917.75,40812.01953125,40504.171875,40313.58984375,39559.203125,39758.12890625,39692.65625,40424.38671875,40720.91796875,41725.83203125,41435.35546875,41459.6171875,40921.30078125,40487.578125,40199.140625,40233.375,41143.6796875,41222.69140625,40939.41796875,42124.11328125,42337.70703125,41652.640625,41435.890625,42451.3515625,42158.66796875,41127.265625,41220.59765625,42980.57421875,42849.5078125,42612.0703125,42767.1640625,41834.015625,42689.5859375,43366.75390625,43738.16796875,43194.390625,42705.27734375,43793.921875,42878.5625,43085.68359375,42623.90625,42194.234375,41453.1328125,41059.7109375,42672.26953125,42878.4765625,41161.78515625,41347.828125,42928.78515625,43124.5859375,42373.65234375,43215.71875,43447.109375,42555.94921875,42867.546875,43116.25390625,42612.02734375,42935.92578125,42919.125,43169.0625,43548.6484375,44320.57421875,44378.89453125,44157.46484375,43996.609375,44325.82421875,43199.64453125,44409.25390625,44694.78125,44843.22265625,44917.2734375,44204.03125,44843.08984375,44686.2265625,44925.18359375,45294.2421875,44442.765625,44417.96875,45218.89453125,45226.64453125,44540.5703125,44483.0078125,45699.96875,45256.859375,45830.69921875,45239.6640625,45306.625,46481.3515625,45297.99609375,45539.515625,45758.640625,44886.10546875,44960.3046875,44157.3984375,43521.28125,44294.69921875,45581.49609375,46028.80078125,45382.69921875,44575.08203125,44286.609375,44647.32421875,43632.58203125,41346.44140625,38756.11328125,34288.25390625,35942.421875,37893.62890625,40176.3046875,41280.24609375,41991.671875,41817.2265625,41052.09765625,41297.09765625,42055.6015625,41626.6484375,41849.203125,41889.79296875,43124.12890625,43463.27734375,43820.97265625,43547.28125,44125.296875,44167.0859375,44727.3203125,44626.78515625,44754.546875,44785.57421875,45023.65625,45338.38671875,45837.9609375,46068.05859375,46323.0390625,45786.9375,45700.63671875,46309.3671875,46406.01171875,45655.12109375,47763.140625,47803.96875,47995.05078125,48084.75390625,47378.125,48224.24609375,47480.9765625,46932.75,45784.64453125,45913.52734375,47586.6171875,48731.3203125,48379.01953125,48405.76171875,48256.328125,48589.765625,47808.22265625,48202.86328125,46970.08984375,47734.51171875,47701.9453125,48023.1875,46980.94921875,46601.9921875,46453.5078125,46990.6875,46769.6484375,47763.1015625,49059.62890625,49132.734375,48823.05859375,48979.4453125,48593.41796875,49289.22265625,49482.03515625,50353.1796875,50111.546875,49301.3125,49729.95703125,49507.859375,49191.83203125,48985.52734375,49122.63671875,48892.6953125,49452.07421875,49403.67578125,49159.45703125,49924.046875,49692.4453125,49071.55859375,48587.2578125,48687.38671875,49816.57421875,49077.71875,48575.2734375,50109.27734375,50651.23828125,50028.49609375,49917.90234375,49342.8984375,49351.7578125,50424.99609375,49773.6328125,49554.265625,49993.97265625,49762.609375,49568.91796875,49305.26953125,49393.92578125,50061.25,50366.25,50207.2890625,49759.62890625,48628.02734375,48247.5703125,48927.640625,50487.69140625,50521.8125,49741.96484375,48970.8203125,50211.36328125,49195.140625,48518.42578125,49024.36328125,48273.93359375,47548.421875,47120.65234375,46647.875,45962.76953125,44965.53515625,45559.80078125,47203.40625,47662.98828125,47965.2109375,46833.2265625,46873.234375,47392.828125,47470.6484375,50165.98046875,50482.39453125,49422.72265625,48798.5625,48898.41796875,49182.73828125,50111.15234375,50422.39453125,49193.08984375,48993.48828125,48964.53125,49183.55859375,48949.33203125,48882.77734375,49261.9296875,49001.16015625,49388.0390625,49280.05859375,50378.203125,49101.07421875,48153.61328125,49937.83984375,50094.30078125,50656.20703125,49854.51953125,49040.90234375,48751.85546875,49838.72265625,49105.4140625,48336.609375,48025.90625,47603.36328125,49013.3359375,50339.28515625,50863.9921875,50437.0,49738.7421875,49237.4765625,49905.5078125,50138.73828125,50875.7421875,50946.9296875,50529.19140625,51027.1796875,50886.2578125,50195.91015625,50847.15625,51613.15234375,52026.58203125,52391.09375,52261.81640625,51662.58203125,50995.36328125,50919.82421875,50715.5625,50168.2421875,49836.22265625,50574.48046875,51309.67578125,50730.73046875,51854.3125,52015.75390625,52255.1640625,52250.2109375,51945.45703125,52146.93359375,51258.05859375,50705.0859375,49455.828125,49811.79296875,51162.67578125,51354.1015625,51089.88671875,50980.3828125,51413.03125,51251.8984375,50696.3984375,50263.34765625,50259.77734375,50397.91796875,50573.5703125,50352.48046875,51444.87890625,51606.23046875,52313.1171875,52335.39453125,51965.3515625,52045.67578125,51349.67578125,50973.2265625,51388.0,51968.6796875,51981.30859375,52788.01953125,53194.13671875,52661.76171875,52582.92578125,52349.48046875,52509.12109375,52821.7265625,53271.59375,52374.00390625,51639.42578125,52132.328125,53401.2890625,52394.765625,53290.82421875,52342.36328125,51704.99609375,51126.08984375,51552.62109375,53150.625,52616.4453125,51845.296875,51621.74609375,51334.890625,51058.76171875,52662.265625,53949.609375,52995.4765625,52019.91015625,52357.47265625,52744.65234375,52494.09765625,52438.7421875,53300.25390625,53029.703125,52695.015625,53189.09375,52285.05078125,52840.0546875,53723.6328125,51510.95703125,51960.38671875,52287.80859375,52290.3359375,52155.54296875,52225.2578125,52072.0625,52411.73046875,52845.7421875,52106.390625,51757.359375,51475.09375,50339.97265625,49490.8828125,46253.68359375,37121.3984375,27105.630859375,20701.22265625,16998.380859375,15331.3681640625,15924.451171875,18823.126953125,24475.58203125,28371.482421875,35990.04296875,36849.32421875,34197.921875,29847.87890625,28930.02734375,28960.79296875,29402.251953125,30165.98828125,31949.35546875,32791.20703125,34673.73046875,36050.4609375,37396.97265625,38562.34765625,40081.34375,41077.2890625,41429.4296875,41278.37890625,41593.09375,43765.58984375,46530.44921875,48535.74609375,48682.74609375,49784.75390625,49984.5390625,50067.67578125,49588.0234375,50490.4453125,50066.03515625,49664.05078125,49708.9140625,49022.265625,48637.015625,50426.15625,51473.6953125,50614.484375,50117.19140625,49653.515625,49678.28125,50420.83203125,50987.96875,51408.5859375,51359.03125,50520.52734375,51593.92578125,51702.28125,51788.625,51665.4140625,51627.296875,50466.2109375,50053.4375,49984.671875,50323.6796875,51627.54296875,52847.05078125,53187.49609375,52004.58984375,52011.21484375,52298.29296875,52168.90625,52065.66796875,51489.6328125,51461.0859375,51625.63671875,51298.69921875,51147.8359375,52126.53515625,52103.5234375,51853.02734375,51970.8828125,51480.74609375,51916.00390625,52054.45703125,52385.703125,52148.92578125,52413.890625,53053.44140625,53368.06640625,52877.44921875,53140.0,52541.57421875,52681.94140625,51599.21875,50914.95703125,51394.08984375,52342.62890625,52851.2734375,52786.80859375,52350.34375,52545.015625,53247.95703125,52560.41796875,52507.9453125,53039.65234375,52871.3359375,53072.8984375,52863.7421875,52846.16015625,52510.18359375,52139.35546875,52594.93359375,52157.51171875,51929.25,52343.0234375,52677.3203125,52396.625,52572.5390625,51885.4375,51737.8046875,51513.8828125,51454.7421875,51462.98828125,50983.83203125,50532.23046875,50811.4609375,51112.86328125,50243.08984375,50630.1328125,50852.2578125,50758.3125,50401.52734375,49849.55078125,49824.63671875,49751.71875,49499.80859375,49502.0234375,49374.953125,49589.62890625,50698.3984375,51496.9921875,51816.2109375,51421.0546875,51646.37890625,50732.8828125,51504.83984375,51643.703125,52131.9609375,51800.34375,52694.0078125,52235.91796875,52060.47265625,52185.3203125,51409.23046875,51597.16796875,51344.62109375,51042.0859375,50827.015625,50895.06640625,50968.9140625,51381.09765625,52002.2890625,52491.09765625,52403.91796875,52509.625,52533.390625,51704.99609375,51042.5703125,50822.6875,50709.52734375,51714.95703125,52880.83203125,52674.63671875,52251.578125,52104.91796875,51070.20703125,50157.9140625,50141.2890625,51365.375,52267.34375,52935.9453125,52548.2578125,51955.65625,51477.69921875,51577.69921875,51123.21484375,50990.2265625,51599.1328125,51060.6328125,51413.22265625,50984.6875,50745.48828125,50329.06640625,50870.609375,50862.203125,50586.23828125,51012.55078125,51454.16015625,50483.0625,50597.8125,51173.66015625,51454.59375,51347.22265625,49679.78515625,51374.78515625,51560.6328125,50453.6484375,49747.890625,50549.43359375,50022.89453125,50375.33203125,50812.54296875,48073.53515625,50119.67578125,49569.8046875,49277.76171875,48936.109375,48991.53515625,49124.60546875,48940.78515625,48316.19140625,47232.30859375,47349.96484375,48100.109375,48758.72265625,48748.44140625,48408.546875,47145.05859375,46186.94921875,46202.125,46614.28125,47070.30859375,46776.57421875,46463.40625,46242.0703125,47652.0,48905.5390625,50032.78515625,49350.8984375,49051.69921875,48439.65234375,49101.24609375,49267.60546875,49145.9921875,47186.359375,46254.78125,44803.65625,45698.6015625,46907.8671875,49129.81640625,50526.359375,50359.1796875,50047.1640625,49720.1875,50582.24609375,50450.96875,50395.1015625,50117.23046875,50068.6796875,50402.14453125,50277.38671875,50567.29296875,50178.29296875,49053.26953125,48499.640625,49154.82421875,50001.58203125,49872.08203125,48500.89453125,48016.81640625,47971.234375,47775.6328125,49308.79296875,49651.734375,49444.328125,48665.96875,48227.484375,48538.2890625,48133.3984375,48394.41796875,48410.9453125,48766.6171875,47750.7734375,47335.77734375,46677.70703125,46553.37890625,46060.921875,47343.4453125,46833.265625,47351.6015625,48360.9609375,48695.4140625,48225.78125,48548.98046875,48716.26171875,48240.59375,47784.984375,47645.1796875,48017.25390625,48532.3984375,49346.0390625,49200.87109375,48542.30859375,48402.89453125,47051.3515625,46618.078125,46596.49609375,46641.7734375,47693.8828125,48582.8984375,49587.58984375,49226.453125,48008.5859375,48893.4921875,48428.69140625,49043.31640625,48831.69921875,49267.75390625,48903.2109375,48932.66796875,48600.76953125,47716.16015625,48172.7109375,47873.625,48597.15234375,48235.453125,47630.83203125,47710.5703125,48166.140625,47876.30078125,48591.33984375,49456.34765625,49531.36328125,49661.05078125,49859.69140625,49102.49609375,48974.5,48968.10546875,47602.30078125,47534.66015625,48837.37890625,49573.04296875,49459.71484375,48524.953125,48607.26171875,48517.93359375,48646.08984375,48156.3046875,46973.640625,45795.16796875,45405.27734375,46959.6015625,48407.171875,48764.65625,48165.29296875,46791.5859375,46961.2421875,47017.91796875,48276.2109375,49162.8125,48584.5078125,47936.99609375,46758.62890625,45870.2734375,43934.05859375,41927.1875,39926.7421875,39981.44140625,41819.09375,44092.5625,45378.3125,45697.953125,46652.46484375,47267.34765625,47754.38671875,48105.37890625,48265.375,48035.75,46740.1171875,46467.69140625,47066.79296875,47086.32421875,47074.08984375,47474.34765625,47604.6796875,47386.83984375,46873.6796875,46128.72265625,46603.69140625,46024.55859375,47324.65234375,47058.32421875,47782.08984375,46879.1171875,46704.125,45055.4140625,45370.59375,45766.05859375,46011.21875,46356.140625,47341.15625,47568.28515625,46838.87890625,46461.79296875,46557.125,46170.125,45497.6796875,45368.60546875,45102.98828125,45483.3515625,45590.01171875,42831.5546875,41127.93359375,39507.828125,40688.24609375,43251.03515625,44391.79296875,45453.86328125,46179.8203125,47120.6796875,47638.23828125,47236.5859375,46196.125,44956.25,45033.55859375,45787.8125,47489.140625,47743.46484375,48172.9140625,48641.73828125,47716.45703125,45574.9296875,46018.0859375,46394.03125,47465.06640625,47174.5078125,48289.26171875,47909.12109375,48079.546875,47226.57421875,46403.73828125,46806.73046875,46760.3984375,46903.03125,48220.8984375,48255.81640625,47605.24609375,46745.390625,46411.00390625,46004.0390625,45727.79296875,46101.60546875,46768.078125,46751.52734375,46860.9921875,47101.9921875,47448.8046875,47538.5546875,46315.921875,46349.01171875,46200.03125,46192.05078125,45735.23046875,46052.98046875,46991.46875,46700.390625,46200.12109375,44295.99609375,42997.8203125,42069.88671875,43646.77734375,45377.82421875,44991.6875,45381.07421875,45178.296875,45249.140625,45234.80078125,45186.0546875,44641.3515625,44788.81640625,43853.71875,43966.89453125,45150.8984375,46284.23828125,46405.59765625,45471.87109375,45106.91015625,44218.82421875,43420.73046875,42998.66015625,42235.1796875,42987.20703125,43366.984375,44406.0546875,44623.48828125,43496.68359375,42883.19140625,43163.86328125,43881.46875,43999.984375,44345.44140625,44937.625,44438.15625,44658.3671875,44327.16015625,43910.234375,43340.26953125,42816.4765625,42571.98046875,43032.8984375,43313.89453125,43883.7265625,44091.140625,43456.39453125,42810.8359375,42732.11328125,41844.55078125,41649.72265625,41660.53515625,42128.046875,42901.39453125,42703.3359375,42500.8515625,41904.16015625,41731.95703125,41819.87890625,41169.671875,40693.39453125,40504.04296875,40239.6171875,40650.8984375,40693.0,40696.28515625,40089.79296875,39456.4453125,39635.203125,38791.11328125,38050.0625,37677.4453125,37141.98828125,38433.07421875,39517.421875,40123.21484375,38902.6171875,37501.9140625,37541.19140625,37272.3671875,36718.390625,36142.09375,36803.6171875,37642.9921875,38171.09765625,38317.59765625,39012.26953125,39292.265625,39598.5078125,40141.84375,40392.54296875,40309.72265625,40532.33984375,41480.03515625,41519.390625,41274.23046875,40549.35546875,39630.94921875,38709.93359375,38608.26953125,38140.67578125,37426.85546875,37217.63671875,37054.1640625,36975.640625,37215.08984375,36895.35546875,35949.91796875,35090.3046875,34755.74609375,34498.79296875,35216.34765625,36053.9453125,36505.828125,36588.1015625,36258.359375,35545.12890625,35473.64453125,35422.78515625,35551.44140625,35254.71484375,34959.76953125,35887.484375,36539.97265625,36531.16796875,35292.15625,33681.3515625,33150.16796875,33820.98828125,34094.65625,34959.43359375,36171.1953125,35756.62890625,34268.015625,33222.6484375,32380.619140625,32413.12890625,33700.3359375,33981.83203125,34903.5625,34797.25390625,34022.71484375,33288.2421875,32806.640625,32852.6953125,33294.4765625,33351.015625,33878.0703125,34180.88671875,34665.6875,33979.8671875,34841.9765625,34873.56640625,34910.35546875,34186.51953125,33520.6953125,32860.046875,32215.654296875,32536.353515625,33246.45703125,33824.515625,34357.37109375,34010.28515625,33229.453125,32574.830078125,32259.21484375,32069.892578125,31281.140625,32014.599609375,32251.265625,32948.0390625,33023.58203125,32929.00390625,32930.828125,31816.251953125,31155.5078125,31309.28125,32160.158203125,32451.3359375,33021.6796875,33422.20703125,32798.8359375,31824.640625,31260.5703125,30153.50390625,29510.125,29721.205078125,29613.826171875,28896.482421875,28046.544921875,27998.80859375,28385.087890625,28455.9140625,27613.56640625,26469.28125,25222.72265625,24013.80859375,23729.818359375,22563.310546875,22752.341796875,22944.345703125,23258.578125,24023.794921875,23079.2265625,22295.986328125,20411.375,19426.048828125,18151.037109375,18962.86328125,20536.875,21849.48046875,21847.44921875,20460.158203125,20124.775390625,20685.26171875,21333.328125,19311.44921875,19456.560546875,19915.64453125,20584.47265625,21331.810546875,21926.962890625,21102.490234375,21130.337890625,22619.4921875,23888.0546875,24727.740234375,25608.365234375,25284.8125,25144.52734375,24727.619140625,24243.64453125,24003.724609375,23243.09765625,22481.228515625,22177.763671875,22287.974609375,22420.30859375,21814.3671875,20442.6015625,19297.955078125,19886.583984375,20876.267578125,21054.16015625,19783.318359375,18231.587890625,18243.53125,19473.126953125,21108.310546875,21237.23046875,20781.41015625,20108.521484375,19506.595703125,19586.544921875,20506.3125,20992.87890625,21007.50390625,20822.205078125,20710.650390625,20146.736328125,19467.3046875,19541.67578125,21082.814453125,22087.61328125,21731.48046875,20018.21875,17937.248046875,17280.7734375,17601.626953125,19064.28515625,21093.76171875,22120.86328125,22224.818359375,21211.69140625,19759.896484375,18636.16796875,18583.607421875,18550.900390625,18864.06640625,19456.396484375,19663.4921875,19756.58984375,19837.85546875,19580.48046875,18965.06640625,18736.75,18991.00390625,18511.935546875,18921.76171875,18207.708984375,17958.0625,18312.921875,18152.166015625,18432.41015625,18226.615234375,19045.935546875,19769.1484375,19664.3984375,18783.18359375,18641.84375,18172.4375,17617.64453125,17438.67578125,16980.255859375,17488.236328125,18327.517578125,18409.828125,18254.572265625,18810.86328125,18573.146484375,18171.42578125,18525.9921875,18114.193359375,17770.0234375,17100.607421875,17037.197265625,17303.74609375,18210.7578125,18393.05078125,18109.830078125,17452.65625,17036.390625,16839.37109375,16959.400390625,16528.177734375,16895.69921875,17443.369140625,17512.94140625,17324.537109375,16970.55859375,17406.271484375,17205.646484375,17047.44921875,17113.79296875,17520.103515625,17182.630859375,17198.93359375,17254.91015625,17455.66015625,17589.765625,18030.95703125,17932.615234375,17417.986328125,17258.193359375,16957.509765625,16694.5234375,16291.0517578125,16413.7265625,16465.076171875,16750.439453125,16992.279296875,16934.291015625,16533.150390625,16418.484375,16199.8466796875,15697.83984375,15475.3916015625,15318.6796875,15003.798828125,15205.310546875,15187.361328125,15443.8662109375,15488.7255859375,15173.966796875,15295.91796875,15130.0224609375,14786.748046875,14146.068359375,14107.326171875,14601.5263671875,14551.83984375,14750.7939453125,15182.0087890625,14981.3779296875,14497.1240234375,14175.3857421875,13749.396484375,13575.3642578125,13315.8251953125,13710.267578125,14062.2041015625,14054.919921875,14045.728515625,13928.84765625,13911.55078125,13982.2880859375,13811.1123046875,13384.6630859375,13431.7890625,13452.8564453125,13662.9580078125,13543.4384765625,13418.9892578125,13509.9814453125,13301.345703125,13097.48046875,12951.595703125,12918.19140625,12731.333984375,12627.9296875,12607.0771484375,12316.021484375,12594.654296875,12544.7197265625,12902.2353515625,12709.80859375,12257.400390625,11796.8203125,11496.173828125,11913.83984375,11911.2333984375,11979.8212890625,11671.009765625,11791.7041015625,11959.9306640625,11778.982421875,11655.6552734375,11144.5185546875,11047.0068359375,10955.328125,11187.509765625,10925.5771484375,11141.53125,11281.9794921875,10855.0615234375,10689.2119140625,11036.1630859375,10832.904296875,10550.33984375,10251.0986328125,10225.98828125,10272.2138671875,10334.7734375,10473.0478515625,10290.5751953125,10317.6298828125,9955.556640625,9825.0537109375,9394.69921875,9445.6591796875,9255.8876953125,9182.02734375,9744.4873046875,9419.3271484375,9652.130859375,9730.4716796875,9057.1484375,9033.056640625,8836.66796875,8704.8505859375,8853.3671875,8774.150390625,8527.38671875,8591.62890625,8766.8095703125,8637.52734375,8570.505859375,8588.470703125,8423.484375,8361.8125]}},\"id\":\"00e4a573-3678-43cd-abf7-db067cf6377f\",\"type\":\"ColumnDataSource\"},{\"attributes\":{\"plot\":{\"id\":\"52177c33-5b94-495f-8232-8874fec6cf6e\",\"subtype\":\"Figure\",\"type\":\"Plot\"}},\"id\":\"8c792d2a-95f3-44e3-a2f9-9613600e4c75\",\"type\":\"ResetTool\"},{\"attributes\":{\"plot\":{\"id\":\"52177c33-5b94-495f-8232-8874fec6cf6e\",\"subtype\":\"Figure\",\"type\":\"Plot\"}},\"id\":\"7abefe86-22c1-4318-bcb3-1861267d5d68\",\"type\":\"SaveTool\"},{\"attributes\":{\"axis_label\":\"Angstrom\",\"formatter\":{\"id\":\"6e13f2f6-4f65-4ebd-ac55-bcc7a169adf5\",\"type\":\"BasicTickFormatter\"},\"plot\":{\"id\":\"52177c33-5b94-495f-8232-8874fec6cf6e\",\"subtype\":\"Figure\",\"type\":\"Plot\"},\"ticker\":{\"id\":\"1feb666f-a0a1-4fb8-956c-394c8387da1a\",\"type\":\"BasicTicker\"}},\"id\":\"295a7bfb-857b-44e5-aa8a-7d2792c33d4d\",\"type\":\"LinearAxis\"},{\"attributes\":{\"overlay\":{\"id\":\"79eb0207-777c-40f8-803b-fc9092efccc2\",\"type\":\"BoxAnnotation\"},\"plot\":{\"id\":\"52177c33-5b94-495f-8232-8874fec6cf6e\",\"subtype\":\"Figure\",\"type\":\"Plot\"}},\"id\":\"a9721459-a6a8-495b-a3e3-08562c068d0b\",\"type\":\"BoxZoomTool\"},{\"attributes\":{\"plot\":{\"id\":\"52177c33-5b94-495f-8232-8874fec6cf6e\",\"subtype\":\"Figure\",\"type\":\"Plot\"}},\"id\":\"0c520af0-482a-4d1e-b9a8-33f41acbd32c\",\"type\":\"WheelZoomTool\"},{\"attributes\":{\"bottom_units\":\"screen\",\"fill_alpha\":{\"value\":0.5},\"fill_color\":{\"value\":\"lightgrey\"},\"left_units\":\"screen\",\"level\":\"overlay\",\"line_alpha\":{\"value\":1.0},\"line_color\":{\"value\":\"black\"},\"line_dash\":[4,4],\"line_width\":{\"value\":2},\"plot\":null,\"render_mode\":\"css\",\"right_units\":\"screen\",\"top_units\":\"screen\"},\"id\":\"79eb0207-777c-40f8-803b-fc9092efccc2\",\"type\":\"BoxAnnotation\"},{\"attributes\":{\"callback\":null,\"plot\":{\"id\":\"52177c33-5b94-495f-8232-8874fec6cf6e\",\"subtype\":\"Figure\",\"type\":\"Plot\"},\"tooltips\":[[\"(x,y)\",\"($x{1}, $y)\"]]},\"id\":\"a4711f8f-6ec1-40c8-86fa-a6dce0e4e66f\",\"type\":\"HoverTool\"},{\"attributes\":{\"line_color\":{\"value\":\"#1f77b4\"},\"x\":{\"field\":\"x\"},\"y\":{\"field\":\"y\"}},\"id\":\"263408ec-91c3-427e-b1ad-b778ba03ba59\",\"type\":\"Line\"},{\"attributes\":{\"plot\":{\"id\":\"52177c33-5b94-495f-8232-8874fec6cf6e\",\"subtype\":\"Figure\",\"type\":\"Plot\"}},\"id\":\"d693b74b-4a52-4c7a-9c33-6f4a1545628a\",\"type\":\"PanTool\"},{\"attributes\":{},\"id\":\"672fdc78-bc2e-4b64-a7b3-e1bd37ddef81\",\"type\":\"BasicTicker\"},{\"attributes\":{\"plot\":{\"id\":\"52177c33-5b94-495f-8232-8874fec6cf6e\",\"subtype\":\"Figure\",\"type\":\"Plot\"}},\"id\":\"f69280f3-5465-4770-be16-318759f4aa93\",\"type\":\"ResizeTool\"},{\"attributes\":{},\"id\":\"1feb666f-a0a1-4fb8-956c-394c8387da1a\",\"type\":\"BasicTicker\"},{\"attributes\":{\"plot\":null,\"text\":\"Spectra\"},\"id\":\"2922ce7a-fabe-4a19-817a-a5e1a9cec365\",\"type\":\"Title\"},{\"attributes\":{\"dimension\":1,\"plot\":{\"id\":\"52177c33-5b94-495f-8232-8874fec6cf6e\",\"subtype\":\"Figure\",\"type\":\"Plot\"},\"ticker\":{\"id\":\"672fdc78-bc2e-4b64-a7b3-e1bd37ddef81\",\"type\":\"BasicTicker\"}},\"id\":\"43311587-7d00-4ac6-84ce-944e2982ca7f\",\"type\":\"Grid\"},{\"attributes\":{\"data_source\":{\"id\":\"00e4a573-3678-43cd-abf7-db067cf6377f\",\"type\":\"ColumnDataSource\"},\"glyph\":{\"id\":\"263408ec-91c3-427e-b1ad-b778ba03ba59\",\"type\":\"Line\"},\"hover_glyph\":null,\"muted_glyph\":null,\"nonselection_glyph\":{\"id\":\"213017fb-f7a1-40bf-b2e3-b79f7e84875a\",\"type\":\"Line\"},\"selection_glyph\":null},\"id\":\"da4af803-086a-423d-b243-4157cd0646fc\",\"type\":\"GlyphRenderer\"},{\"attributes\":{\"below\":[{\"id\":\"295a7bfb-857b-44e5-aa8a-7d2792c33d4d\",\"type\":\"LinearAxis\"}],\"left\":[{\"id\":\"17c8720e-e2c1-449c-a685-f2ef7d01b66e\",\"type\":\"LinearAxis\"}],\"renderers\":[{\"id\":\"295a7bfb-857b-44e5-aa8a-7d2792c33d4d\",\"type\":\"LinearAxis\"},{\"id\":\"eab7b767-a6f2-45ea-9ac4-0cfff7d040ac\",\"type\":\"Grid\"},{\"id\":\"17c8720e-e2c1-449c-a685-f2ef7d01b66e\",\"type\":\"LinearAxis\"},{\"id\":\"43311587-7d00-4ac6-84ce-944e2982ca7f\",\"type\":\"Grid\"},{\"id\":\"79eb0207-777c-40f8-803b-fc9092efccc2\",\"type\":\"BoxAnnotation\"},{\"id\":\"da4af803-086a-423d-b243-4157cd0646fc\",\"type\":\"GlyphRenderer\"}],\"title\":{\"id\":\"2922ce7a-fabe-4a19-817a-a5e1a9cec365\",\"type\":\"Title\"},\"tool_events\":{\"id\":\"7abc82af-2289-47c3-9238-a2ccd0eebd4c\",\"type\":\"ToolEvents\"},\"toolbar\":{\"id\":\"b09c63f4-e4f9-442f-9fe1-559907178d92\",\"type\":\"Toolbar\"},\"x_range\":{\"id\":\"9d81c958-f0b1-4e83-a45d-8de82bf7a80f\",\"type\":\"DataRange1d\"},\"y_range\":{\"id\":\"bd89321a-7549-4ba8-9aca-0dfc2cbcc807\",\"type\":\"DataRange1d\"}},\"id\":\"52177c33-5b94-495f-8232-8874fec6cf6e\",\"subtype\":\"Figure\",\"type\":\"Plot\"},{\"attributes\":{\"line_alpha\":{\"value\":0.1},\"line_color\":{\"value\":\"#1f77b4\"},\"x\":{\"field\":\"x\"},\"y\":{\"field\":\"y\"}},\"id\":\"213017fb-f7a1-40bf-b2e3-b79f7e84875a\",\"type\":\"Line\"},{\"attributes\":{\"callback\":null},\"id\":\"9d81c958-f0b1-4e83-a45d-8de82bf7a80f\",\"type\":\"DataRange1d\"},{\"attributes\":{},\"id\":\"7abc82af-2289-47c3-9238-a2ccd0eebd4c\",\"type\":\"ToolEvents\"},{\"attributes\":{\"plot\":{\"id\":\"52177c33-5b94-495f-8232-8874fec6cf6e\",\"subtype\":\"Figure\",\"type\":\"Plot\"}},\"id\":\"7302d09c-6673-490f-8fb7-fc2f95b070fa\",\"type\":\"HelpTool\"},{\"attributes\":{},\"id\":\"f3cfb125-a7e4-4e76-89dd-6dacd82a9f69\",\"type\":\"BasicTickFormatter\"},{\"attributes\":{\"active_drag\":\"auto\",\"active_scroll\":\"auto\",\"active_tap\":\"auto\",\"tools\":[{\"id\":\"d693b74b-4a52-4c7a-9c33-6f4a1545628a\",\"type\":\"PanTool\"},{\"id\":\"0c520af0-482a-4d1e-b9a8-33f41acbd32c\",\"type\":\"WheelZoomTool\"},{\"id\":\"a9721459-a6a8-495b-a3e3-08562c068d0b\",\"type\":\"BoxZoomTool\"},{\"id\":\"7abefe86-22c1-4318-bcb3-1861267d5d68\",\"type\":\"SaveTool\"},{\"id\":\"8c792d2a-95f3-44e3-a2f9-9613600e4c75\",\"type\":\"ResetTool\"},{\"id\":\"7302d09c-6673-490f-8fb7-fc2f95b070fa\",\"type\":\"HelpTool\"},{\"id\":\"a4711f8f-6ec1-40c8-86fa-a6dce0e4e66f\",\"type\":\"HoverTool\"},{\"id\":\"f69280f3-5465-4770-be16-318759f4aa93\",\"type\":\"ResizeTool\"}]},\"id\":\"b09c63f4-e4f9-442f-9fe1-559907178d92\",\"type\":\"Toolbar\"},{\"attributes\":{\"callback\":null},\"id\":\"bd89321a-7549-4ba8-9aca-0dfc2cbcc807\",\"type\":\"DataRange1d\"}],\"root_ids\":[\"52177c33-5b94-495f-8232-8874fec6cf6e\"]},\"title\":\"Bokeh Application\",\"version\":\"0.12.5\"}};\n",
       "            var render_items = [{\"docid\":\"9597a5c5-40d7-4813-8abf-b7929e578973\",\"elementid\":\"a36ec3d5-6838-4bd9-ada4-d4492b47a17e\",\"modelid\":\"52177c33-5b94-495f-8232-8874fec6cf6e\"}];\n",
       "            \n",
       "            Bokeh.embed.embed_items(docs_json, render_items);\n",
       "          };\n",
       "          if (document.readyState != \"loading\") fn();\n",
       "          else document.addEventListener(\"DOMContentLoaded\", fn);\n",
       "        })();\n",
       "      },\n",
       "      function(Bokeh) {\n",
       "      }\n",
       "    ];\n",
       "  \n",
       "    function run_inline_js() {\n",
       "      \n",
       "      if ((window.Bokeh !== undefined) || (force === true)) {\n",
       "        for (var i = 0; i < inline_js.length; i++) {\n",
       "          inline_js[i](window.Bokeh);\n",
       "        }if (force === true) {\n",
       "          display_loaded();\n",
       "        }} else if (Date.now() < window._bokeh_timeout) {\n",
       "        setTimeout(run_inline_js, 100);\n",
       "      } else if (!window._bokeh_failed_load) {\n",
       "        console.log(\"Bokeh: BokehJS failed to load within specified timeout.\");\n",
       "        window._bokeh_failed_load = true;\n",
       "      } else if (force !== true) {\n",
       "        var cell = $(document.getElementById(\"a36ec3d5-6838-4bd9-ada4-d4492b47a17e\")).parents('.cell').data().cell;\n",
       "        cell.output_area.append_execute_result(NB_LOAD_WARNING)\n",
       "      }\n",
       "  \n",
       "    }\n",
       "  \n",
       "    if (window._bokeh_is_loading === 0) {\n",
       "      console.log(\"Bokeh: BokehJS loaded, going straight to plotting\");\n",
       "      run_inline_js();\n",
       "    } else {\n",
       "      load_libs(js_urls, function() {\n",
       "        console.log(\"Bokeh: BokehJS plotting callback run at\", now());\n",
       "        run_inline_js();\n",
       "      });\n",
       "    }\n",
       "  }(this));\n",
       "</script>"
      ]
     },
     "metadata": {},
     "output_type": "display_data"
    }
   ],
   "source": [
    "#Plotting\n",
    "##For srfm[0].header[\"CTYPE1\"] = 'LINEAR'\n",
    "srfm = fits.open(sourcename+'.ms.fits')\n",
    "#secondstar = srfm[0].data#[0][0]##[0][0] if using clean\n",
    "secondstar = srfm[0].data[0][0]\n",
    "xn = srfm[0].header[\"NAXIS1\"]\n",
    "refx = srfm[0].header[\"CRVAL1\"]\n",
    "step = srfm[0].header['CD1_1']\n",
    "cr = srfm[0].header['CRPIX1']\n",
    "#\n",
    "xlist = [ refx + step*(i - cr) for i in np.arange(1, len(secondstar)+1) ]\n",
    "#\n",
    "hover = HoverTool(\n",
    "        tooltips=[\n",
    "            #(\"index\", \"$index\"),\n",
    "            (\"(x,y)\", \"($x{1}, $y)\"),\n",
    "        ]\n",
    "    )\n",
    "\n",
    "#Create ColumnDataSource\n",
    "x = np.array(xlist)\n",
    "y = np.array(secondstar)\n",
    "source = ColumnDataSource(data=dict(x=x,y=y))\n",
    "\n",
    "\n",
    "\n",
    "\n",
    "plot = figure(x_axis_label='Angstrom', y_axis_label='Y',title=\"Spectra\")\n",
    "plot.add_tools(hover)\n",
    "plot.add_tools(tools.ResizeTool())\n",
    "#Eraaseplot.line(xlist,secondstar)\n",
    "plot.line('x','y',source=source)\n",
    "show(plot)"
   ]
  },
  {
   "cell_type": "code",
   "execution_count": null,
   "metadata": {
    "collapsed": true
   },
   "outputs": [],
   "source": []
  },
  {
   "cell_type": "code",
   "execution_count": 53,
   "metadata": {},
   "outputs": [
    {
     "name": "stdout",
     "output_type": "stream",
     "text": [
      "# Tue 01:28:30 14-Mar-2017\r\n",
      "begin\taperture cx953sky 1 1250. 31\r\n",
      "\timage\tcx953sky\r\n",
      "\taperture\t1\r\n",
      "\tbeam\t1\r\n",
      "\tcenter\t1250. 31\r\n",
      "\tlow\t-1249. -5\r\n",
      "\thigh\t1250. 5\r\n",
      "\tbackground\r\n",
      "\t\txmin -10.\r\n",
      "\t\txmax 10.\r\n",
      "\t\tfunction chebyshev\r\n",
      "\t\torder 1\r\n",
      "\t\tsample -10:-6,6:10\r\n",
      "\t\tnaverage -3\r\n",
      "\t\tniterate 0\r\n",
      "\t\tlow_reject 3.\r\n",
      "\t\thigh_reject 3.\r\n",
      "\t\tgrow 0.\r\n",
      "\taxis\t2\r\n",
      "\tcurve\t5\r\n",
      "\t\t2.\r\n",
      "\t\t1.\r\n",
      "\t\t1.\r\n",
      "\t\t2500.\r\n",
      "\t\t0.\r\n",
      "\r\n"
     ]
    }
   ],
   "source": [
    "\n"
   ]
  },
  {
   "cell_type": "code",
   "execution_count": 120,
   "metadata": {},
   "outputs": [
    {
     "data": {
      "text/plain": [
       "-10"
      ]
     },
     "execution_count": 120,
     "metadata": {},
     "output_type": "execute_result"
    }
   ],
   "source": [
    "min(b_low)"
   ]
  },
  {
   "cell_type": "code",
   "execution_count": 131,
   "metadata": {},
   "outputs": [
    {
     "data": {
      "text/plain": [
       "<function isdigit>"
      ]
     },
     "execution_count": 131,
     "metadata": {},
     "output_type": "execute_result"
    }
   ],
   "source": [
    "a.isdigit"
   ]
  },
  {
   "cell_type": "code",
   "execution_count": 153,
   "metadata": {},
   "outputs": [
    {
     "data": {
      "text/plain": [
       "False"
      ]
     },
     "execution_count": 153,
     "metadata": {},
     "output_type": "execute_result"
    }
   ],
   "source": [
    "a[14] == '1'\n"
   ]
  },
  {
   "cell_type": "code",
   "execution_count": 138,
   "metadata": {},
   "outputs": [],
   "source": [
    "c=[]\n",
    "for i in a:\n",
    "    if i.isdigit():\n",
    "        c.append(i)"
   ]
  },
  {
   "cell_type": "code",
   "execution_count": null,
   "metadata": {
    "collapsed": true
   },
   "outputs": [],
   "source": []
  },
  {
   "cell_type": "code",
   "execution_count": 172,
   "metadata": {},
   "outputs": [
    {
     "name": "stdout",
     "output_type": "stream",
     "text": [
      "\t\tsample 1:-6,6:15\n",
      "\n"
     ]
    }
   ],
   "source": [
    "for i,j in enumerate(c):\n",
    "    t= a.replace(j,str(bb[i]),1)\n",
    "print t\n",
    "    "
   ]
  },
  {
   "cell_type": "code",
   "execution_count": 170,
   "metadata": {},
   "outputs": [
    {
     "data": {
      "text/plain": [
       "'\\t\\tsample 1:-6,6:10\\n'"
      ]
     },
     "execution_count": 170,
     "metadata": {},
     "output_type": "execute_result"
    }
   ],
   "source": [
    "a\n"
   ]
  },
  {
   "cell_type": "code",
   "execution_count": 168,
   "metadata": {},
   "outputs": [],
   "source": [
    "bb=[1,2,3,4,5]"
   ]
  },
  {
   "cell_type": "code",
   "execution_count": null,
   "metadata": {
    "collapsed": true
   },
   "outputs": [],
   "source": []
  }
 ],
 "metadata": {
  "kernelspec": {
   "display_name": "Python 2",
   "language": "python",
   "name": "python2"
  },
  "language_info": {
   "codemirror_mode": {
    "name": "ipython",
    "version": 2
   },
   "file_extension": ".py",
   "mimetype": "text/x-python",
   "name": "python",
   "nbconvert_exporter": "python",
   "pygments_lexer": "ipython2",
   "version": "2.7.13"
  }
 },
 "nbformat": 4,
 "nbformat_minor": 2
}
